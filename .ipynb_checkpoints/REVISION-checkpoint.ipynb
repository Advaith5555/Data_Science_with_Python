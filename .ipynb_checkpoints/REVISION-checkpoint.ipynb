{
 "cells": [
  {
   "cell_type": "code",
   "execution_count": 1,
   "id": "a8c2b229-c99c-40df-90eb-d7d2b52a96f1",
   "metadata": {},
   "outputs": [
    {
     "name": "stdout",
     "output_type": "stream",
     "text": [
      "3\n",
      "6\n",
      "9\n",
      "12\n",
      "15\n",
      "18\n",
      "21\n",
      "24\n",
      "27\n",
      "30\n",
      "33\n",
      "36\n",
      "39\n",
      "42\n",
      "45\n",
      "48\n",
      "51\n",
      "54\n",
      "57\n",
      "60\n",
      "63\n",
      "66\n",
      "69\n",
      "72\n",
      "75\n",
      "78\n",
      "81\n",
      "84\n",
      "87\n",
      "90\n",
      "93\n",
      "96\n",
      "99\n"
     ]
    }
   ],
   "source": [
    "for n in range(1,101):\n",
    "    if n%3 == 0:\n",
    "        print(n)"
   ]
  },
  {
   "cell_type": "code",
   "execution_count": 2,
   "id": "0a5e4036-2bc2-4298-9bc7-333136b9c31e",
   "metadata": {},
   "outputs": [
    {
     "name": "stdout",
     "output_type": "stream",
     "text": [
      "3\n",
      "6\n",
      "9\n"
     ]
    }
   ],
   "source": [
    "def is_divisible_by_three(x,y): \n",
    "    for n in range(x,y):\n",
    "        if n%3 == 0:\n",
    "            print(n)\n",
    "is_divisible_by_three(1,11)"
   ]
  },
  {
   "cell_type": "code",
   "execution_count": 3,
   "id": "eb5b8536-ed57-445c-a09f-e35021384656",
   "metadata": {},
   "outputs": [],
   "source": [
    "def prime_number(x):\n",
    "    if (x == 1) or (x == 0):\n",
    "        print(\"this is not prime no\")\n",
    "    elif x > 1 : \n",
    "        for i in range(2,x):\n",
    "            if x%i == 0:\n",
    "                print(x,\"is not a prime no\")\n",
    "                \n",
    "            else: \n",
    "                print(x,\"is a prime no\")\n",
    "            break\n",
    "    else:\n",
    "        print(\"this is not a prime no\")"
   ]
  },
  {
   "cell_type": "code",
   "execution_count": 4,
   "id": "e287d395-1929-4257-a9d0-04b97fb01dec",
   "metadata": {},
   "outputs": [
    {
     "name": "stdout",
     "output_type": "stream",
     "text": [
      "this is not a prime no\n"
     ]
    }
   ],
   "source": [
    "prime_number(-5)"
   ]
  },
  {
   "cell_type": "code",
   "execution_count": 5,
   "id": "df14c91b-bbef-43c7-8604-2f93f7463b8a",
   "metadata": {},
   "outputs": [
    {
     "name": "stdout",
     "output_type": "stream",
     "text": [
      "1\n",
      "4\n",
      "9\n",
      "16\n",
      "25\n",
      "36\n",
      "49\n",
      "64\n",
      "81\n",
      "100\n"
     ]
    }
   ],
   "source": [
    "for x in range(1,11):\n",
    "    print(x*x)"
   ]
  },
  {
   "cell_type": "code",
   "execution_count": 6,
   "id": "7abeadc5-15d9-4f58-9fa4-afdbf23c6946",
   "metadata": {},
   "outputs": [
    {
     "name": "stdout",
     "output_type": "stream",
     "text": [
      "1\n",
      "4\n",
      "9\n",
      "16\n",
      "25\n",
      "36\n",
      "49\n",
      "64\n",
      "81\n",
      "100\n"
     ]
    }
   ],
   "source": [
    "arr = [1,2,3,4,5,6,7,8,9,10]\n",
    "for x in range(len(arr)):\n",
    "    print(arr[x]*arr[x])"
   ]
  },
  {
   "cell_type": "code",
   "execution_count": 7,
   "id": "a93ed592-0abd-434b-bee9-fe43c8f99cd6",
   "metadata": {},
   "outputs": [
    {
     "name": "stdout",
     "output_type": "stream",
     "text": [
      "1\n",
      "4\n",
      "9\n",
      "16\n",
      "25\n",
      "36\n",
      "49\n",
      "64\n",
      "81\n",
      "100\n"
     ]
    }
   ],
   "source": [
    "for n in arr:\n",
    "    print(arr[n-1]*arr[n-1])"
   ]
  },
  {
   "cell_type": "code",
   "execution_count": 8,
   "id": "7cc31e14-dae3-44e9-b033-0f94b32311f9",
   "metadata": {},
   "outputs": [
    {
     "name": "stdout",
     "output_type": "stream",
     "text": [
      "the square of 1 is 1\n",
      "the square of 2 is 4\n",
      "the square of 3 is 9\n",
      "the square of 4 is 16\n",
      "the square of 5 is 25\n",
      "the square of 6 is 36\n",
      "the square of 7 is 49\n",
      "the square of 8 is 64\n",
      "the square of 9 is 81\n",
      "the square of 10 is 100\n"
     ]
    }
   ],
   "source": [
    "for index, number in enumerate(arr):\n",
    "    print(f\"the square of {number} is {arr[index]*arr[index]}\")"
   ]
  },
  {
   "cell_type": "code",
   "execution_count": 9,
   "id": "3b6194ee-021d-44dc-b342-b29777fa44bd",
   "metadata": {},
   "outputs": [
    {
     "name": "stdout",
     "output_type": "stream",
     "text": [
      "1\n",
      "2\n",
      "3\n",
      "4\n",
      "5\n"
     ]
    }
   ],
   "source": [
    "for i in range(1,6):\n",
    "    print(i)"
   ]
  },
  {
   "cell_type": "code",
   "execution_count": 10,
   "id": "bfc872e5-41a0-48ca-8789-d976c4464eff",
   "metadata": {},
   "outputs": [
    {
     "name": "stdout",
     "output_type": "stream",
     "text": [
      "1\n",
      "2\n",
      "3\n",
      "4\n",
      "5\n"
     ]
    }
   ],
   "source": [
    "count = 1\n",
    "while count <= 5:\n",
    "    print(count)\n",
    "    count+=1"
   ]
  },
  {
   "cell_type": "code",
   "execution_count": 11,
   "id": "df68db77-d581-4d53-b175-cba82a06a92d",
   "metadata": {},
   "outputs": [
    {
     "name": "stdout",
     "output_type": "stream",
     "text": [
      "1\n",
      "2\n",
      "3\n",
      "4\n"
     ]
    }
   ],
   "source": [
    "for i in range(1,10):\n",
    "    if i==5:\n",
    "        break\n",
    "    print(i)"
   ]
  },
  {
   "cell_type": "code",
   "execution_count": 12,
   "id": "7850a9cb-865e-4a5f-8480-a9487faabefa",
   "metadata": {},
   "outputs": [
    {
     "name": "stdout",
     "output_type": "stream",
     "text": [
      "1\n",
      "2\n",
      "3\n",
      "4\n",
      "6\n",
      "7\n",
      "8\n",
      "9\n"
     ]
    }
   ],
   "source": [
    "for i in range(1,10):\n",
    "    if i==5:\n",
    "        continue\n",
    "    print(i)"
   ]
  },
  {
   "cell_type": "markdown",
   "id": "117b0fe7-0093-4d1f-869f-3dc76d36b060",
   "metadata": {},
   "source": [
    "#### logical operators"
   ]
  },
  {
   "cell_type": "markdown",
   "id": "6a5fc43d-469c-4321-a734-bae5be777ca0",
   "metadata": {},
   "source": [
    "| operator | meaning |\n",
    "|----------|---------|\n",
    "| and | both conditions are true |\n",
    "| or | atleast one condition should be true |\n",
    "| not | reverse the condition means if the condition is true it will make false and viseversa |"
   ]
  },
  {
   "cell_type": "code",
   "execution_count": 13,
   "id": "369ea1ba-e746-4e3f-a3df-2500279a07a0",
   "metadata": {},
   "outputs": [],
   "source": [
    "age = 20 \n",
    "has_id = True"
   ]
  },
  {
   "cell_type": "code",
   "execution_count": 14,
   "id": "c4ee3e38-dd11-47ba-b9df-8a06717d1ef1",
   "metadata": {},
   "outputs": [
    {
     "name": "stdout",
     "output_type": "stream",
     "text": [
      "entry allowed\n"
     ]
    }
   ],
   "source": [
    "if age >= 18 and has_id:\n",
    "    print(\"entry allowed\")\n",
    "else:\n",
    "    print(\"entry denied\")"
   ]
  },
  {
   "cell_type": "code",
   "execution_count": 15,
   "id": "a570ff20-822d-4342-b859-86917686f66e",
   "metadata": {},
   "outputs": [
    {
     "name": "stdout",
     "output_type": "stream",
     "text": [
      "passed\n"
     ]
    }
   ],
   "source": [
    "marks = 40\n",
    "gpa = 4\n",
    "if marks >= 60 or gpa >= 4:\n",
    "    print(\"passed\")\n",
    "else:\n",
    "    print(\"fail\")"
   ]
  },
  {
   "cell_type": "code",
   "execution_count": 16,
   "id": "b7580db9-634c-4254-92ef-ef4e77038ba8",
   "metadata": {},
   "outputs": [
    {
     "name": "stdout",
     "output_type": "stream",
     "text": [
      "stay inside\n"
     ]
    }
   ],
   "source": [
    "is_raining = True \n",
    "if not is_raining:\n",
    "    print(\"go outside\")\n",
    "else:\n",
    "    print(\"stay inside\")"
   ]
  },
  {
   "cell_type": "code",
   "execution_count": 17,
   "id": "9f0ca105-8c2d-4f9d-a3b0-4200e2fb1043",
   "metadata": {},
   "outputs": [],
   "source": [
    "a = 2\n",
    "b = 3"
   ]
  },
  {
   "cell_type": "markdown",
   "id": "69618df5-66a0-4ae2-b7f5-c93691f53bec",
   "metadata": {},
   "source": [
    "#### arithmetic operations"
   ]
  },
  {
   "cell_type": "code",
   "execution_count": 18,
   "id": "f886fa78-63ad-4d39-9e63-8339fea14bf9",
   "metadata": {},
   "outputs": [
    {
     "name": "stdout",
     "output_type": "stream",
     "text": [
      "5\n",
      "1\n",
      "1.5\n",
      "1\n",
      "1\n",
      "6\n",
      "8\n"
     ]
    }
   ],
   "source": [
    "print(a+b)\n",
    "print(b-a)\n",
    "print(b/a)\n",
    "print(b//a)\n",
    "print(b%a)\n",
    "print(a*b)\n",
    "print(a**b) "
   ]
  },
  {
   "cell_type": "code",
   "execution_count": 19,
   "id": "2bb53900-e34d-43b2-9a0f-267e8b461aad",
   "metadata": {},
   "outputs": [
    {
     "name": "stdout",
     "output_type": "stream",
     "text": [
      "False\n",
      "True\n",
      "False\n",
      "True\n",
      "False\n",
      "True\n"
     ]
    }
   ],
   "source": [
    "x = 5\n",
    "y = 10\n",
    "print(x==y) # equals to\n",
    "print(x != y) # not equal to\n",
    "print(x > y)\n",
    "print(x < y)\n",
    "print(x >= y)\n",
    "print(x <= y)"
   ]
  },
  {
   "cell_type": "markdown",
   "id": "4dd3d986-4c8c-4daf-9a70-45222ab3128a",
   "metadata": {},
   "source": [
    " "
   ]
  },
  {
   "cell_type": "markdown",
   "id": "f35e0994-d03a-4bd4-afb2-64009b4dbe0c",
   "metadata": {},
   "source": [
    "#### assignment operators"
   ]
  },
  {
   "cell_type": "code",
   "execution_count": 20,
   "id": "1dcb9e6e-50ec-42c9-88fa-e9ba57c31b32",
   "metadata": {},
   "outputs": [
    {
     "name": "stdout",
     "output_type": "stream",
     "text": [
      "11\n",
      "3.6666666666666665\n",
      "3\n"
     ]
    }
   ],
   "source": [
    "z = 11\n",
    "print(z)\n",
    "z/=3\n",
    "print(z)\n",
    "z=11\n",
    "z//=3\n",
    "print(z)\n"
   ]
  },
  {
   "cell_type": "code",
   "execution_count": 21,
   "id": "c893e386-40b2-46e4-8b10-8217441402a2",
   "metadata": {},
   "outputs": [
    {
     "name": "stdout",
     "output_type": "stream",
     "text": [
      "2\n",
      "4\n",
      "6\n",
      "8\n",
      "10\n"
     ]
    }
   ],
   "source": [
    "for i in range(1, 11):\n",
    "    if i % 2 != 0:\n",
    "        continue\n",
    "    print(i)"
   ]
  },
  {
   "cell_type": "code",
   "execution_count": 40,
   "id": "6b9a03d1-7687-4b25-bb86-57648278ed69",
   "metadata": {},
   "outputs": [],
   "source": [
    "def print_primes(a, b):\n",
    "    for num in range(a, b):\n",
    "     if num == 1:\n",
    "         continue\n",
    "     else:\n",
    "        for i in range(2, int(num * 0.5)+1 ):\n",
    "            if num % i == 0:\n",
    "                break\n",
    "        else:\n",
    "            print(num)"
   ]
  },
  {
   "cell_type": "code",
   "execution_count": 42,
   "id": "68375bcf-d17e-48cc-8c0f-0be4c62c9886",
   "metadata": {},
   "outputs": [
    {
     "name": "stdout",
     "output_type": "stream",
     "text": [
      "2\n",
      "3\n",
      "5\n",
      "7\n",
      "11\n",
      "13\n",
      "17\n",
      "19\n",
      "23\n",
      "29\n",
      "31\n",
      "37\n",
      "41\n",
      "43\n",
      "47\n"
     ]
    }
   ],
   "source": [
    "print_primes(1, 50)"
   ]
  },
  {
   "cell_type": "code",
   "execution_count": null,
   "id": "e4ff17db-efe6-4953-a2f6-698e78428167",
   "metadata": {},
   "outputs": [],
   "source": []
  }
 ],
 "metadata": {
  "kernelspec": {
   "display_name": "Python 3 (ipykernel)",
   "language": "python",
   "name": "python3"
  },
  "language_info": {
   "codemirror_mode": {
    "name": "ipython",
    "version": 3
   },
   "file_extension": ".py",
   "mimetype": "text/x-python",
   "name": "python",
   "nbconvert_exporter": "python",
   "pygments_lexer": "ipython3",
   "version": "3.12.6"
  }
 },
 "nbformat": 4,
 "nbformat_minor": 5
}
