{
 "cells": [
  {
   "cell_type": "markdown",
   "id": "4ba1182c-c465-4a35-ae66-fb6aa2da6220",
   "metadata": {},
   "source": [
    "# LOOPS"
   ]
  },
  {
   "cell_type": "code",
   "execution_count": 46,
   "id": "c7fe458a-2c16-448e-8741-649038001d7c",
   "metadata": {},
   "outputs": [],
   "source": [
    "fruits = ['Apple','banana','chiku','kiwi']\n"
   ]
  },
  {
   "cell_type": "markdown",
   "id": "fc0aa0d6-aee0-4204-909d-2f460e07fc3b",
   "metadata": {},
   "source": [
    "#### for loop"
   ]
  },
  {
   "cell_type": "code",
   "execution_count": 47,
   "id": "326ba222-6956-448e-8613-c53f0bffecde",
   "metadata": {},
   "outputs": [
    {
     "name": "stdout",
     "output_type": "stream",
     "text": [
      "Apple\n",
      "banana\n",
      "chiku\n",
      "kiwi\n"
     ]
    }
   ],
   "source": [
    "for fruit in fruits:\n",
    "    print(fruit)"
   ]
  },
  {
   "cell_type": "code",
   "execution_count": 48,
   "id": "415fb6d2-a34e-41ca-ae3b-5fc823250dda",
   "metadata": {},
   "outputs": [
    {
     "name": "stdout",
     "output_type": "stream",
     "text": [
      "0\n",
      "1\n",
      "2\n",
      "3\n",
      "4\n",
      "5\n",
      "6\n",
      "7\n",
      "8\n",
      "9\n",
      "10\n"
     ]
    }
   ],
   "source": [
    "for n in range(11):\n",
    "    print(n)\n"
   ]
  },
  {
   "cell_type": "code",
   "execution_count": 49,
   "id": "9c4d9a1e-4218-4ab6-8e8e-96805d55e2f2",
   "metadata": {},
   "outputs": [
    {
     "name": "stdout",
     "output_type": "stream",
     "text": [
      "A\n",
      "d\n",
      "v\n",
      "a\n",
      "i\n",
      "t\n",
      "h\n"
     ]
    }
   ],
   "source": [
    "for a in \"Advaith\":\n",
    "    print(a)"
   ]
  },
  {
   "cell_type": "markdown",
   "id": "4c3141c1-bd3a-4aba-8aa2-0a5c4268c1a6",
   "metadata": {},
   "source": [
    "#### while loop"
   ]
  },
  {
   "cell_type": "code",
   "execution_count": 50,
   "id": "bced1664-023c-4b5d-8a99-0b7f7bbb9974",
   "metadata": {},
   "outputs": [
    {
     "name": "stdout",
     "output_type": "stream",
     "text": [
      "0\n",
      "1\n",
      "2\n",
      "3\n",
      "4\n"
     ]
    }
   ],
   "source": [
    "count=0\n",
    "while count<5:\n",
    "    print(count)\n",
    "    count+=1"
   ]
  },
  {
   "cell_type": "code",
   "execution_count": 51,
   "id": "2d8ea674-6053-46cf-87ba-a982ec7c444c",
   "metadata": {},
   "outputs": [
    {
     "name": "stdout",
     "output_type": "stream",
     "text": [
      "Advaith\n",
      "Advaith\n",
      "Advaith\n",
      "Advaith\n",
      "Advaith\n",
      "Advaith\n",
      "Advaith\n",
      "Advaith\n",
      "Advaith\n",
      "Advaith\n"
     ]
    }
   ],
   "source": [
    "count=0\n",
    "while count<=9:\n",
    "    print(\"Advaith\")\n",
    "    count+=1"
   ]
  },
  {
   "cell_type": "markdown",
   "id": "24a7a96b-f14f-4dcb-8d77-99dfc0f076ab",
   "metadata": {},
   "source": [
    "#### control statements"
   ]
  },
  {
   "cell_type": "markdown",
   "id": "8ff4d985-cce0-4af1-936e-04177dc40741",
   "metadata": {},
   "source": [
    "#### if else"
   ]
  },
  {
   "cell_type": "code",
   "execution_count": 52,
   "id": "5872cfa2-c8d6-402f-b984-1da51c86ccd2",
   "metadata": {},
   "outputs": [
    {
     "name": "stdout",
     "output_type": "stream",
     "text": [
      "n is smaller\n"
     ]
    }
   ],
   "source": [
    "n = 4\n",
    "if n>5:\n",
    "    print(\"n is greater\")\n",
    "else:\n",
    "    print(\"n is smaller\")"
   ]
  },
  {
   "cell_type": "markdown",
   "id": "af1067a5-da55-44f3-b192-b48c7d4c5fc7",
   "metadata": {},
   "source": [
    "#### if else ladder"
   ]
  },
  {
   "cell_type": "code",
   "execution_count": 53,
   "id": "b7dab3c6-7a7f-4520-9f07-b3e6048f799b",
   "metadata": {},
   "outputs": [
    {
     "name": "stdout",
     "output_type": "stream",
     "text": [
      "n is smaller\n"
     ]
    }
   ],
   "source": [
    "n = 3\n",
    "if n>5:\n",
    "    print(\"n is greater\")\n",
    "elif n==5:\n",
    "    print(\"n is 5\")\n",
    "else:\n",
    "    print(\"n is smaller\")"
   ]
  },
  {
   "cell_type": "code",
   "execution_count": 54,
   "id": "b8e1ca5b-a837-4096-badb-a52a2872e320",
   "metadata": {},
   "outputs": [
    {
     "name": "stdout",
     "output_type": "stream",
     "text": [
      "n is even\n"
     ]
    }
   ],
   "source": [
    "def check_even_odd():\n",
    "    n = 6\n",
    "    if n % 2 == 0:\n",
    "        print(\"n is even\")\n",
    "    else:\n",
    "        print(\"n is odd\")\n",
    "check_even_odd()"
   ]
  },
  {
   "cell_type": "code",
   "execution_count": 55,
   "id": "d0f3f834-c180-420b-bfe1-e862d9b6bb5f",
   "metadata": {},
   "outputs": [
    {
     "name": "stdout",
     "output_type": "stream",
     "text": [
      "3 is odd\n"
     ]
    }
   ],
   "source": [
    "def check_even_odd1(a):\n",
    "    if a % 2 == 0:\n",
    "        print(a,\"is even\")\n",
    "    else:\n",
    "        print(a,\"is odd\")\n",
    "check_even_odd1(3)"
   ]
  },
  {
   "cell_type": "code",
   "execution_count": 56,
   "id": "ddff0de2-272a-4fe7-9f73-d30b50f2d6ef",
   "metadata": {},
   "outputs": [
    {
     "name": "stdout",
     "output_type": "stream",
     "text": [
      "2\n",
      "4\n",
      "6\n",
      "8\n",
      "10\n"
     ]
    }
   ],
   "source": [
    "for n in range(1,11):\n",
    "    if n % 2 == 0:\n",
    "        print(n)\n",
    "    n+=1"
   ]
  },
  {
   "cell_type": "code",
   "execution_count": 57,
   "id": "4538e974-5cce-4863-aa97-56edd9ad6755",
   "metadata": {},
   "outputs": [
    {
     "name": "stdout",
     "output_type": "stream",
     "text": [
      "12\n",
      "14\n",
      "16\n",
      "18\n",
      "20\n"
     ]
    }
   ],
   "source": [
    "def even(a,b):\n",
    "    for n in range(a,b):\n",
    "        if n % 2 == 0:\n",
    "            print(n)\n",
    "        n+=1\n",
    "even(11,21)"
   ]
  },
  {
   "cell_type": "markdown",
   "id": "6636bc3d-1dbf-40dc-90d9-b32f6aed67bc",
   "metadata": {},
   "source": [
    "#### break statement"
   ]
  },
  {
   "cell_type": "code",
   "execution_count": 58,
   "id": "42416f9e-011d-4e81-a838-6ad90a30f4e4",
   "metadata": {},
   "outputs": [
    {
     "name": "stdout",
     "output_type": "stream",
     "text": [
      "0\n",
      "1\n",
      "2\n",
      "3\n"
     ]
    }
   ],
   "source": [
    "cnt = 0\n",
    "while cnt<5:\n",
    "    if cnt == 4:\n",
    "        break\n",
    "    print(cnt)\n",
    "    cnt+=1\n",
    "    "
   ]
  },
  {
   "cell_type": "markdown",
   "id": "1e07c9d8-1b07-4ec2-9a1b-04fb29c4baf8",
   "metadata": {},
   "source": [
    "#### continue statement"
   ]
  },
  {
   "cell_type": "code",
   "execution_count": 59,
   "id": "2ec64e2c-9e98-456f-a978-fe61757121e2",
   "metadata": {},
   "outputs": [
    {
     "name": "stdout",
     "output_type": "stream",
     "text": [
      "1\n",
      "2\n",
      "4\n",
      "5\n"
     ]
    }
   ],
   "source": [
    "cnt1 = 0 \n",
    "while cnt1<5:\n",
    "    cnt1+=1\n",
    "    if cnt1==3:\n",
    "        continue\n",
    "    print(cnt1)"
   ]
  },
  {
   "cell_type": "code",
   "execution_count": 60,
   "id": "61f981da-33e7-4ef5-9abc-9fc5f08525b0",
   "metadata": {},
   "outputs": [
    {
     "name": "stdout",
     "output_type": "stream",
     "text": [
      "0\n",
      "1\n",
      "2\n",
      "3\n",
      "4\n",
      "6\n",
      "7\n",
      "8\n",
      "9\n",
      "10\n"
     ]
    }
   ],
   "source": [
    "for i in range(11):\n",
    "    if i == 5:\n",
    "        continue\n",
    "    print(i)"
   ]
  },
  {
   "cell_type": "code",
   "execution_count": 61,
   "id": "131c1778-56bb-4b18-8b58-1f7525910afb",
   "metadata": {},
   "outputs": [
    {
     "name": "stdout",
     "output_type": "stream",
     "text": [
      "59 is a prime no\n"
     ]
    }
   ],
   "source": [
    "def prime(a):\n",
    "    if a == 0 or a == 1:\n",
    "        print(a,\"is not a prime no\")\n",
    "    elif a>1:\n",
    "        for i in range(2,a):\n",
    "            if a % i == 0:\n",
    "                print(a,\"is not a prime no\")\n",
    "                break\n",
    "        else:\n",
    "             print(a,\"is a prime no\")\n",
    "    else:\n",
    "        print(a,\"is not a prime no\")\n",
    "prime(59)"
   ]
  },
  {
   "cell_type": "markdown",
   "id": "7979a949-8a8e-4690-834b-ddf2c440dcdf",
   "metadata": {},
   "source": [
    "# NUMPY"
   ]
  },
  {
   "cell_type": "code",
   "execution_count": 62,
   "id": "acade0e2-634b-4f64-af3b-c770306782c8",
   "metadata": {},
   "outputs": [],
   "source": [
    "import numpy as np\n"
   ]
  },
  {
   "cell_type": "code",
   "execution_count": 63,
   "id": "ff8e9deb-7968-4430-bf03-5b399cde5106",
   "metadata": {},
   "outputs": [
    {
     "name": "stdout",
     "output_type": "stream",
     "text": [
      "[1 2 3 4]\n"
     ]
    }
   ],
   "source": [
    "Array = np.array([1,2,3,4])\n",
    "print(Array)"
   ]
  },
  {
   "cell_type": "code",
   "execution_count": 64,
   "id": "e12847a9-235d-491f-90e1-40811849a9b9",
   "metadata": {},
   "outputs": [
    {
     "name": "stdout",
     "output_type": "stream",
     "text": [
      "[[1 2 3]\n",
      " [4 5 6]\n",
      " [7 8 9]]\n"
     ]
    }
   ],
   "source": [
    "dArray = np.array([[1,2,3],[4,5,6],[7,8,9]])\n",
    "print(dArray)"
   ]
  },
  {
   "cell_type": "markdown",
   "id": "04a5273a-fa50-4c42-ac3b-3baf9ff6a7e3",
   "metadata": {},
   "source": [
    "#### To find out shape of an array"
   ]
  },
  {
   "cell_type": "code",
   "execution_count": 65,
   "id": "7e644fb5-c1ee-4ca5-9322-76b605060603",
   "metadata": {},
   "outputs": [
    {
     "name": "stdout",
     "output_type": "stream",
     "text": [
      "(3, 3)\n"
     ]
    }
   ],
   "source": [
    "print(dArray.shape)\n"
   ]
  },
  {
   "cell_type": "markdown",
   "id": "e0fb1de5-07be-4d3e-aaf6-ab160c192caf",
   "metadata": {},
   "source": [
    "#### to find out the dimension of an array"
   ]
  },
  {
   "cell_type": "code",
   "execution_count": 66,
   "id": "17adc225-6460-46a7-9a3e-8603f0b85a42",
   "metadata": {},
   "outputs": [
    {
     "name": "stdout",
     "output_type": "stream",
     "text": [
      "2\n"
     ]
    }
   ],
   "source": [
    "print(dArray.ndim)"
   ]
  },
  {
   "cell_type": "markdown",
   "id": "52c46ca8-8e70-4622-af8b-b1e1f160d17e",
   "metadata": {},
   "source": [
    "#### to find out the data type of an array"
   ]
  },
  {
   "cell_type": "code",
   "execution_count": 67,
   "id": "26f3b518-79e3-42ff-b3ba-3f81da0fec81",
   "metadata": {},
   "outputs": [
    {
     "name": "stdout",
     "output_type": "stream",
     "text": [
      "int64\n"
     ]
    }
   ],
   "source": [
    "print(dArray.dtype)"
   ]
  },
  {
   "cell_type": "markdown",
   "id": "f4afc1db-0c63-42cf-8a71-34d45c00f3d0",
   "metadata": {},
   "source": [
    "#### to find out the size of an array"
   ]
  },
  {
   "cell_type": "code",
   "execution_count": 68,
   "id": "cba1e1a5-21d4-449e-be96-9ff9ca488d16",
   "metadata": {},
   "outputs": [
    {
     "name": "stdout",
     "output_type": "stream",
     "text": [
      "9\n"
     ]
    }
   ],
   "source": [
    "print(dArray.size)"
   ]
  },
  {
   "cell_type": "code",
   "execution_count": 69,
   "id": "4ca89e71-54fa-4916-a234-14f794e289b1",
   "metadata": {},
   "outputs": [],
   "source": [
    "arr = np.array([10,20,30,40,50])"
   ]
  },
  {
   "cell_type": "markdown",
   "id": "307d83e7-b938-4834-9c51-ed11c75489e8",
   "metadata": {},
   "source": [
    "#### Access single element from an array"
   ]
  },
  {
   "cell_type": "code",
   "execution_count": 70,
   "id": "9f755ab8-a6e1-424d-b2b3-603fdc3d18d6",
   "metadata": {},
   "outputs": [
    {
     "name": "stdout",
     "output_type": "stream",
     "text": [
      "30\n"
     ]
    }
   ],
   "source": [
    "print(arr[2])"
   ]
  },
  {
   "cell_type": "markdown",
   "id": "7eb82093-abad-48a9-bf4e-e0de76e79e96",
   "metadata": {},
   "source": [
    "#### Slicing of an array"
   ]
  },
  {
   "cell_type": "code",
   "execution_count": 71,
   "id": "77a7b4d0-d0a6-4c16-8760-c4c5de4a7ab6",
   "metadata": {},
   "outputs": [
    {
     "name": "stdout",
     "output_type": "stream",
     "text": [
      "[20 30 40]\n"
     ]
    }
   ],
   "source": [
    "print(arr[1:4])"
   ]
  },
  {
   "cell_type": "markdown",
   "id": "5a81d9bb-6179-42a9-bd9a-21aefc8b9356",
   "metadata": {},
   "source": [
    "#### To update the existing array"
   ]
  },
  {
   "cell_type": "code",
   "execution_count": 72,
   "id": "951434d2-0120-4d6d-a3d2-61aa5ace89de",
   "metadata": {},
   "outputs": [
    {
     "name": "stdout",
     "output_type": "stream",
     "text": [
      "[10 20 30 40 45]\n"
     ]
    }
   ],
   "source": [
    "arr[4]=45\n",
    "print(arr)"
   ]
  },
  {
   "cell_type": "code",
   "execution_count": 73,
   "id": "0fa79148-ad2f-4dc2-b58c-1e6c1d149c85",
   "metadata": {},
   "outputs": [
    {
     "name": "stdout",
     "output_type": "stream",
     "text": [
      "[10 20 30 40 50]\n"
     ]
    }
   ],
   "source": [
    "arr = np.array([10,20,30,40,50])\n",
    "arr[4]=50\n",
    "print(arr)"
   ]
  },
  {
   "cell_type": "markdown",
   "id": "561a05db-77ee-415a-a4a8-ecc95bb44731",
   "metadata": {},
   "source": [
    "#### to access an single element from multi-dimentional array"
   ]
  },
  {
   "cell_type": "code",
   "execution_count": 74,
   "id": "a28db53d-e141-4bcb-b58a-0f8550c4df31",
   "metadata": {},
   "outputs": [
    {
     "name": "stdout",
     "output_type": "stream",
     "text": [
      "[[1 2 3]\n",
      " [4 5 6]\n",
      " [7 8 9]]\n"
     ]
    }
   ],
   "source": [
    "print(dArray)"
   ]
  },
  {
   "cell_type": "code",
   "execution_count": 75,
   "id": "d1263881-c88c-466e-8a58-e61b49cd637e",
   "metadata": {},
   "outputs": [
    {
     "name": "stdout",
     "output_type": "stream",
     "text": [
      "2\n"
     ]
    }
   ],
   "source": [
    "print(dArray[0,1])"
   ]
  },
  {
   "cell_type": "code",
   "execution_count": 76,
   "id": "203195e1-133e-4eca-95c2-546708af05f5",
   "metadata": {},
   "outputs": [
    {
     "name": "stdout",
     "output_type": "stream",
     "text": [
      "[[7 8 9]]\n"
     ]
    }
   ],
   "source": [
    "print(dArray[2:3])"
   ]
  },
  {
   "cell_type": "markdown",
   "id": "a2382b0c-a98c-4955-ad15-35b268ca44f1",
   "metadata": {},
   "source": [
    "#### first 2 columns"
   ]
  },
  {
   "cell_type": "code",
   "execution_count": 77,
   "id": "1ef0fa32-5711-4125-a415-c1ce23407f7a",
   "metadata": {},
   "outputs": [
    {
     "name": "stdout",
     "output_type": "stream",
     "text": [
      "[[1 2]\n",
      " [4 5]\n",
      " [7 8]]\n"
     ]
    }
   ],
   "source": [
    "print(dArray[:,:2])"
   ]
  },
  {
   "cell_type": "markdown",
   "id": "e8c20999-ee79-43e9-b918-30a3a9a2f60e",
   "metadata": {},
   "source": [
    "#### first 2 rows"
   ]
  },
  {
   "cell_type": "code",
   "execution_count": 78,
   "id": "454699c7-e531-498d-b44b-efe31d13c37f",
   "metadata": {},
   "outputs": [
    {
     "name": "stdout",
     "output_type": "stream",
     "text": [
      "[[1 2 3]\n",
      " [4 5 6]]\n"
     ]
    }
   ],
   "source": [
    "print(dArray[:2])"
   ]
  },
  {
   "cell_type": "markdown",
   "id": "cb30cfcb-c86a-4180-be2b-fb864167f9e5",
   "metadata": {},
   "source": [
    "#### addition of array"
   ]
  },
  {
   "cell_type": "code",
   "execution_count": 79,
   "id": "995cfd9e-d722-4c2a-9216-bf3dd3e913c0",
   "metadata": {},
   "outputs": [
    {
     "name": "stdout",
     "output_type": "stream",
     "text": [
      "[5 7 9]\n"
     ]
    }
   ],
   "source": [
    "arr1 = np.array([1,2,3])\n",
    "arr2 = np.array([4,5,6])\n",
    "print(arr1+arr2)"
   ]
  },
  {
   "cell_type": "markdown",
   "id": "440aec56-a0dd-4900-bcd5-209da5989f97",
   "metadata": {},
   "source": [
    "#### substraction of array"
   ]
  },
  {
   "cell_type": "code",
   "execution_count": 80,
   "id": "8deb8ea4-46a8-4492-a3aa-73feda328813",
   "metadata": {},
   "outputs": [
    {
     "name": "stdout",
     "output_type": "stream",
     "text": [
      "[-3 -3 -3]\n",
      "[3 3 3]\n"
     ]
    }
   ],
   "source": [
    "print(arr1-arr2)\n",
    "print(arr2-arr1)"
   ]
  },
  {
   "cell_type": "markdown",
   "id": "2a4722aa-58b4-43f4-a4ea-15713fea395b",
   "metadata": {},
   "source": [
    "#### multiplication of array"
   ]
  },
  {
   "cell_type": "code",
   "execution_count": 81,
   "id": "f5da5f9d-75b4-4b11-8646-738e03105c1d",
   "metadata": {},
   "outputs": [
    {
     "name": "stdout",
     "output_type": "stream",
     "text": [
      "[ 4 10 18]\n"
     ]
    }
   ],
   "source": [
    "print(arr1*arr2)"
   ]
  },
  {
   "cell_type": "markdown",
   "id": "7d28b8da-ce6a-409b-aac8-61b2d016862e",
   "metadata": {},
   "source": [
    "#### division of array"
   ]
  },
  {
   "cell_type": "code",
   "execution_count": 82,
   "id": "130c2d6d-01dd-47de-859b-6ed4d5069ca1",
   "metadata": {},
   "outputs": [
    {
     "name": "stdout",
     "output_type": "stream",
     "text": [
      "[0.5 0.5 0.5]\n"
     ]
    }
   ],
   "source": [
    "arr3 = np.array([4,8,12])\n",
    "arr4 = np.array([2,4,6])\n",
    "print(arr4/arr3)"
   ]
  },
  {
   "cell_type": "markdown",
   "id": "00935928-9ea6-4110-8e0a-1aa6c9982e1f",
   "metadata": {},
   "source": [
    "#### whether the given no is even or odd in array "
   ]
  },
  {
   "cell_type": "code",
   "execution_count": 83,
   "id": "64dd76a6-d973-4562-929e-f046e5618447",
   "metadata": {},
   "outputs": [
    {
     "name": "stdout",
     "output_type": "stream",
     "text": [
      "1 is Odd\n",
      "2 is Even\n",
      "3 is Odd\n",
      "4 is Even\n",
      "5 is Odd\n",
      "6 is Even\n",
      "7 is Odd\n",
      "8 is Even\n",
      "9 is Odd\n",
      "10 is Even\n"
     ]
    }
   ],
   "source": [
    "numbers = np.array([1,2,3,4,5,6,7,8,9,10])\n",
    "for number in numbers:\n",
    "    if number % 2 == 0:\n",
    "        print(number,\"is Even\")\n",
    "    else:\n",
    "        print(number,\"is Odd\")"
   ]
  },
  {
   "cell_type": "markdown",
   "id": "20368c82-50cf-4d0d-b352-d3bc7b76e782",
   "metadata": {},
   "source": [
    "# numpy functions"
   ]
  },
  {
   "cell_type": "markdown",
   "id": "445cbe55-61ac-4ad7-ab22-539b7ddb8578",
   "metadata": {},
   "source": [
    "#### 1. sum"
   ]
  },
  {
   "cell_type": "code",
   "execution_count": 84,
   "id": "669484b9-f345-4c98-89b6-556dad32bbc0",
   "metadata": {},
   "outputs": [
    {
     "name": "stdout",
     "output_type": "stream",
     "text": [
      "15\n"
     ]
    }
   ],
   "source": [
    "sum = np.array([1,2,3,4,5])\n",
    "fruits = np.array([\"apple\",\"mango\",\"chiku\"])\n",
    "print(sum.sum())"
   ]
  },
  {
   "cell_type": "markdown",
   "id": "5683363a-c5d1-4bda-a0d6-6580a2110b1a",
   "metadata": {},
   "source": [
    "#### 2. mean"
   ]
  },
  {
   "cell_type": "code",
   "execution_count": 85,
   "id": "50e613ef-0492-41cf-b134-1252d1fa96d0",
   "metadata": {},
   "outputs": [
    {
     "name": "stdout",
     "output_type": "stream",
     "text": [
      "3.0\n"
     ]
    }
   ],
   "source": [
    "print(sum.mean())"
   ]
  },
  {
   "cell_type": "markdown",
   "id": "40d70998-336d-4e6e-996b-afed5793bab2",
   "metadata": {},
   "source": [
    "#### 3. max"
   ]
  },
  {
   "cell_type": "code",
   "execution_count": 86,
   "id": "2a31ec89-09ca-4a97-9438-0f36da8bb703",
   "metadata": {},
   "outputs": [
    {
     "name": "stdout",
     "output_type": "stream",
     "text": [
      "5\n"
     ]
    }
   ],
   "source": [
    "print(sum.max())"
   ]
  },
  {
   "cell_type": "markdown",
   "id": "5c952a4c-40dd-4bf5-8d92-73fa5d27ab22",
   "metadata": {},
   "source": [
    "#### 4. min"
   ]
  },
  {
   "cell_type": "code",
   "execution_count": 87,
   "id": "3bcf73ea-9a2f-4bab-b359-ec0377eb1c9d",
   "metadata": {},
   "outputs": [
    {
     "name": "stdout",
     "output_type": "stream",
     "text": [
      "1\n"
     ]
    }
   ],
   "source": [
    "print(sum.min())"
   ]
  },
  {
   "cell_type": "markdown",
   "id": "6b08123c-179c-473c-88f8-660c41bc759c",
   "metadata": {},
   "source": [
    "#### 5. standard deviation"
   ]
  },
  {
   "cell_type": "code",
   "execution_count": 88,
   "id": "ed0be9c8-5e17-43e3-bc4c-1b339ef64fbb",
   "metadata": {},
   "outputs": [
    {
     "name": "stdout",
     "output_type": "stream",
     "text": [
      "1.4142135623730951\n"
     ]
    }
   ],
   "source": [
    "print(sum.std())"
   ]
  },
  {
   "cell_type": "markdown",
   "id": "4f47ff1f-f0ec-4af7-841b-f9cfa74b1e6a",
   "metadata": {},
   "source": [
    "#### 6. Sorting an array"
   ]
  },
  {
   "cell_type": "code",
   "execution_count": 89,
   "id": "bdaf4f61-f7ad-4f7a-953f-b88197a1e0b6",
   "metadata": {},
   "outputs": [],
   "source": [
    "unsorted_array = np.array([8,12,6,3,90,32])"
   ]
  },
  {
   "cell_type": "code",
   "execution_count": 90,
   "id": "e436c2df-414c-471c-b678-597752955dfd",
   "metadata": {},
   "outputs": [
    {
     "name": "stdout",
     "output_type": "stream",
     "text": [
      "[ 3  6  8 12 32 90]\n"
     ]
    }
   ],
   "source": [
    "print(np.sort(unsorted_array))"
   ]
  },
  {
   "cell_type": "code",
   "execution_count": null,
   "id": "a05de643-bbf2-4ede-97e5-cde9150c8647",
   "metadata": {},
   "outputs": [],
   "source": []
  }
 ],
 "metadata": {
  "kernelspec": {
   "display_name": "Python 3 (ipykernel)",
   "language": "python",
   "name": "python3"
  },
  "language_info": {
   "codemirror_mode": {
    "name": "ipython",
    "version": 3
   },
   "file_extension": ".py",
   "mimetype": "text/x-python",
   "name": "python",
   "nbconvert_exporter": "python",
   "pygments_lexer": "ipython3",
   "version": "3.12.6"
  }
 },
 "nbformat": 4,
 "nbformat_minor": 5
}
