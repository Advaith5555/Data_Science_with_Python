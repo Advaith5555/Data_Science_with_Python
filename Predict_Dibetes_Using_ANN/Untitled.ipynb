{
 "cells": [
  {
   "cell_type": "markdown",
   "id": "766eeb38-83d9-48b9-9d40-69ad0695d0b9",
   "metadata": {},
   "source": [
    "- We will use the pima indians diabetes dataset\n",
    "- A classic Dataset for binary classification with medical features "
   ]
  },
  {
   "cell_type": "markdown",
   "id": "6883a7e1-823b-43c4-b722-1cc85930abb9",
   "metadata": {},
   "source": [
    "#### Understand the Dataset. This Dataset contains medical information like:\n",
    "| Feature | Description | \n",
    "|---------|-------------|\n",
    "| Pregnancies | No of Pregnancies |\n",
    "| Glucose | Plasma Glucose concentration |\n",
    "| Blood Pressure | Diastolic Blood Pressure | \n",
    "| Skin Thickness | Skin fold Thickness | \n",
    "| Insuline | Serum Insuline | \n",
    "| BMI | Body Mass Index | \n",
    "| Diabetes Pedegree Function | Genetic Diabetes Likelyhood | \n",
    "| Age | Age of Patient |\n",
    "| `Outcome :` | 0 = No Diabetes, 1 = Diabetes |"
   ]
  },
  {
   "cell_type": "code",
   "execution_count": null,
   "id": "15fd5810-67cc-4545-ba51-d97727af1bef",
   "metadata": {},
   "outputs": [],
   "source": []
  }
 ],
 "metadata": {
  "kernelspec": {
   "display_name": "Python (tfenv)",
   "language": "python",
   "name": "tfenv"
  },
  "language_info": {
   "codemirror_mode": {
    "name": "ipython",
    "version": 3
   },
   "file_extension": ".py",
   "mimetype": "text/x-python",
   "name": "python",
   "nbconvert_exporter": "python",
   "pygments_lexer": "ipython3",
   "version": "3.10.18"
  }
 },
 "nbformat": 4,
 "nbformat_minor": 5
}
