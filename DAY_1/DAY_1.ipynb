{
 "cells": [
  {
   "cell_type": "markdown",
   "id": "26298f0d-7da9-4316-acca-fd1e7384d8a1",
   "metadata": {},
   "source": [
    "# VARIABLE"
   ]
  },
  {
   "cell_type": "code",
   "execution_count": 12,
   "id": "b0b6eea8-ee13-4c23-9371-b47823cecd55",
   "metadata": {},
   "outputs": [],
   "source": [
    "number = 3"
   ]
  },
  {
   "cell_type": "code",
   "execution_count": 13,
   "id": "2e5a4baf-de9c-48e2-b141-f04496db224a",
   "metadata": {},
   "outputs": [
    {
     "name": "stdout",
     "output_type": "stream",
     "text": [
      "3\n"
     ]
    }
   ],
   "source": [
    "print (number)"
   ]
  },
  {
   "cell_type": "code",
   "execution_count": 14,
   "id": "2012ecae-7709-4988-be9d-c68a99d2778c",
   "metadata": {},
   "outputs": [
    {
     "name": "stdout",
     "output_type": "stream",
     "text": [
      "<class 'int'>\n"
     ]
    }
   ],
   "source": [
    "print(type(number))"
   ]
  },
  {
   "cell_type": "code",
   "execution_count": 15,
   "id": "59ee08f9-0a70-4838-b518-2d1aac40b69d",
   "metadata": {},
   "outputs": [
    {
     "name": "stdout",
     "output_type": "stream",
     "text": [
      "3.3\n",
      "<class 'float'>\n"
     ]
    }
   ],
   "source": [
    "dec_number = 3.3\n",
    "print(dec_number)\n",
    "print(type(dec_number))\n"
   ]
  },
  {
   "cell_type": "code",
   "execution_count": 16,
   "id": "8c5dcc9a-5786-4e57-bbb1-47600a68143f",
   "metadata": {},
   "outputs": [
    {
     "name": "stdout",
     "output_type": "stream",
     "text": [
      "Advaith\n",
      "<class 'str'>\n"
     ]
    }
   ],
   "source": [
    "str = \"Advaith\"\n",
    "print(str)\n",
    "print(type(str))"
   ]
  },
  {
   "cell_type": "code",
   "execution_count": 17,
   "id": "5ec1ba67-60ab-4646-9271-72dca429fb7f",
   "metadata": {},
   "outputs": [
    {
     "name": "stdout",
     "output_type": "stream",
     "text": [
      "True False\n",
      "<class 'bool'>\n"
     ]
    }
   ],
   "source": [
    "state1 = True\n",
    "state2 = False\n",
    "print(state1,state2)\n",
    "print(type(state1))\n"
   ]
  },
  {
   "cell_type": "markdown",
   "id": "ec281a3e-37e1-42aa-b1b7-c4d1335d4a9f",
   "metadata": {},
   "source": [
    "# LIST "
   ]
  },
  {
   "cell_type": "code",
   "execution_count": 18,
   "id": "6290a2d8-ed81-4b88-ab52-f9eb3097600b",
   "metadata": {},
   "outputs": [
    {
     "name": "stdout",
     "output_type": "stream",
     "text": [
      "['maharashtra', 13, 'goa', True, 1.3]\n"
     ]
    }
   ],
   "source": [
    "states = [\"maharashtra\" , 13 ,'goa' ,True, 1.3]\n",
    "print(states)"
   ]
  },
  {
   "cell_type": "markdown",
   "id": "ac8e48d0-7f74-471a-8982-4a37fba8116a",
   "metadata": {},
   "source": [
    "#### to find out the element from index"
   ]
  },
  {
   "cell_type": "code",
   "execution_count": 19,
   "id": "b9c2e345-22e7-4b3b-adbd-498ac42831c9",
   "metadata": {},
   "outputs": [
    {
     "name": "stdout",
     "output_type": "stream",
     "text": [
      "goa\n"
     ]
    }
   ],
   "source": [
    "print(states[2])"
   ]
  },
  {
   "cell_type": "markdown",
   "id": "d0d2b81c-9513-4dbb-aaaa-fd83bfc8f713",
   "metadata": {},
   "source": [
    "#### to append an element in the list(element is added in the last)"
   ]
  },
  {
   "cell_type": "code",
   "execution_count": 20,
   "id": "c8c59fa7-194b-4851-9dc4-c80ef720268d",
   "metadata": {},
   "outputs": [
    {
     "name": "stdout",
     "output_type": "stream",
     "text": [
      "states after append method: ['maharashtra', 13, 'goa', True, 1.3, 'goa']\n",
      "states after append method: ['maharashtra', 13, 'goa', True, 1.3, 'goa', 'delhi']\n"
     ]
    }
   ],
   "source": [
    "states.append(\"goa\")\n",
    "print(\"states after append method:\",states)\n",
    "states.append(\"delhi\")\n",
    "print(\"states after append method:\",states)"
   ]
  },
  {
   "cell_type": "markdown",
   "id": "5526a906-f305-4460-b806-b30be8279065",
   "metadata": {},
   "source": [
    "#### insert an element to a particular position in the list(first argument will be position and second will be the value)"
   ]
  },
  {
   "cell_type": "code",
   "execution_count": 21,
   "id": "3277395c-efea-4f9d-85c4-f49caa9d156a",
   "metadata": {},
   "outputs": [
    {
     "name": "stdout",
     "output_type": "stream",
     "text": [
      "states after insert method: ['maharashtra', 13, 12, 'goa', True, 1.3, 'goa', 'delhi']\n"
     ]
    }
   ],
   "source": [
    "states.insert(2,12)\n",
    "print(\"states after insert method:\",states)            "
   ]
  },
  {
   "cell_type": "markdown",
   "id": "081e6e68-0db9-457f-a44d-c739e44bc029",
   "metadata": {},
   "source": [
    "#### remove element from list"
   ]
  },
  {
   "cell_type": "code",
   "execution_count": 22,
   "id": "d611e18e-83d8-43fd-a0c0-9b972da45392",
   "metadata": {},
   "outputs": [
    {
     "name": "stdout",
     "output_type": "stream",
     "text": [
      "states after remove method: ['maharashtra', 13, 12, 'goa', True, 1.3, 'goa']\n"
     ]
    }
   ],
   "source": [
    "states.remove(\"delhi\")\n",
    "\n",
    "print(\"states after remove method:\",states)"
   ]
  },
  {
   "cell_type": "markdown",
   "id": "8a0f6286-0ed8-4b01-923a-9f3a57e614e0",
   "metadata": {},
   "source": [
    "#### to pop elements from the list(last element will be deleted)"
   ]
  },
  {
   "cell_type": "code",
   "execution_count": 23,
   "id": "25d73b34-b79e-4ac6-9a32-15f051795371",
   "metadata": {},
   "outputs": [
    {
     "name": "stdout",
     "output_type": "stream",
     "text": [
      "goa\n"
     ]
    }
   ],
   "source": [
    "last_state = states.pop()\n",
    "print(last_state)"
   ]
  },
  {
   "cell_type": "code",
   "execution_count": 24,
   "id": "d29316e2-d649-410c-95bf-1ca084c37285",
   "metadata": {},
   "outputs": [
    {
     "name": "stdout",
     "output_type": "stream",
     "text": [
      "states after pop method: ['maharashtra', 13, 12, 'goa', True, 1.3]\n"
     ]
    }
   ],
   "source": [
    "print(\"states after pop method:\",states)"
   ]
  },
  {
   "cell_type": "markdown",
   "id": "7640ae17-0cb0-4fa6-bc65-c044055298a0",
   "metadata": {},
   "source": [
    "#### to find out the index of given element"
   ]
  },
  {
   "cell_type": "code",
   "execution_count": 25,
   "id": "e68e4eec-c3dc-4266-bfa8-f1fb90a938bb",
   "metadata": {},
   "outputs": [
    {
     "name": "stdout",
     "output_type": "stream",
     "text": [
      "3\n"
     ]
    }
   ],
   "source": [
    "goa_index = states.index(\"goa\")\n",
    "print (goa_index)"
   ]
  },
  {
   "cell_type": "markdown",
   "id": "7d08c18f-7924-4daf-946a-5e2e077577f6",
   "metadata": {},
   "source": [
    "#### counting of elements in a list"
   ]
  },
  {
   "cell_type": "code",
   "execution_count": 26,
   "id": "674ad13b-9d43-415e-b00d-fbaafa1259c3",
   "metadata": {},
   "outputs": [
    {
     "name": "stdout",
     "output_type": "stream",
     "text": [
      "states: ['maharashtra', 13, 12, 'goa', True, 1.3]\n",
      "1\n"
     ]
    }
   ],
   "source": [
    "print(\"states:\",states)\n",
    "goa_count = states.count(\"goa\")\n",
    "print(goa_count)"
   ]
  },
  {
   "cell_type": "markdown",
   "id": "81087aeb-17ea-4ef5-89c9-36094fe34a24",
   "metadata": {},
   "source": [
    "#### sorting of list"
   ]
  },
  {
   "cell_type": "code",
   "execution_count": 27,
   "id": "c953266c-9e2e-4cf1-bec2-891ac7149340",
   "metadata": {},
   "outputs": [
    {
     "name": "stdout",
     "output_type": "stream",
     "text": [
      "sorted states: ['delhi', 'goa', 'mah', 'up']\n"
     ]
    }
   ],
   "source": [
    "states1 = [2,5,7,3,4,8]\n",
    "states2 = ['mah','goa','delhi','up']\n",
    "states2.sort()\n",
    "print(\"sorted states:\",states2)"
   ]
  },
  {
   "cell_type": "markdown",
   "id": "cf0d30f3-2bcf-4849-bc53-d0443e79f1cb",
   "metadata": {},
   "source": [
    "#### Reverse a list"
   ]
  },
  {
   "cell_type": "code",
   "execution_count": 28,
   "id": "9ea07488-b0a9-4601-9564-f0ec4996a20d",
   "metadata": {},
   "outputs": [
    {
     "name": "stdout",
     "output_type": "stream",
     "text": [
      "[8, 4, 3, 7, 5, 2]\n"
     ]
    }
   ],
   "source": [
    "states1.reverse()\n",
    "print(states1)"
   ]
  },
  {
   "cell_type": "markdown",
   "id": "cbe7934e-0c62-4dfd-a965-3592fb05097a",
   "metadata": {},
   "source": [
    "#### Length of list"
   ]
  },
  {
   "cell_type": "code",
   "execution_count": 29,
   "id": "11470680-2a34-499f-be3f-19a1ca5101a5",
   "metadata": {},
   "outputs": [
    {
     "name": "stdout",
     "output_type": "stream",
     "text": [
      "6\n"
     ]
    }
   ],
   "source": [
    "print(len(states1))"
   ]
  },
  {
   "cell_type": "markdown",
   "id": "d25b3090-a0bf-4491-a7fb-bff13b56ae2a",
   "metadata": {},
   "source": [
    "# Tuples"
   ]
  },
  {
   "cell_type": "code",
   "execution_count": 30,
   "id": "a56eaf0c-3149-42ce-a20f-e59272b24d99",
   "metadata": {},
   "outputs": [
    {
     "name": "stdout",
     "output_type": "stream",
     "text": [
      "('solapur', 'pune', 'mumbai', 'delhi')\n"
     ]
    }
   ],
   "source": [
    "cities = (\"solapur\" , \"pune\" , \"mumbai\",\"delhi\")\n",
    "print (cities)"
   ]
  },
  {
   "cell_type": "markdown",
   "id": "dd4b48a1-b295-4a5e-8a7a-4ff8d0bcabf7",
   "metadata": {},
   "source": [
    "#### access an element from its index"
   ]
  },
  {
   "cell_type": "code",
   "execution_count": 31,
   "id": "bb98ebc6-9f47-4525-a642-c303a0206777",
   "metadata": {},
   "outputs": [
    {
     "name": "stdout",
     "output_type": "stream",
     "text": [
      "solapur\n"
     ]
    }
   ],
   "source": [
    "print(cities [0])"
   ]
  },
  {
   "cell_type": "markdown",
   "id": "d63a03eb-d343-4cdf-9290-9ef10e136179",
   "metadata": {},
   "source": [
    "#### to count the number of occurance of an element in tuple"
   ]
  },
  {
   "cell_type": "code",
   "execution_count": 32,
   "id": "d84c297d-09ce-4976-a40d-4e6592dfded6",
   "metadata": {},
   "outputs": [
    {
     "name": "stdout",
     "output_type": "stream",
     "text": [
      "1\n"
     ]
    }
   ],
   "source": [
    "mumbai_count = cities.count(\"mumbai\")\n",
    "print (mumbai_count)"
   ]
  },
  {
   "cell_type": "markdown",
   "id": "edb567cd-7ecb-4636-afa4-2b7c5786306a",
   "metadata": {},
   "source": [
    "#### to find out the index of given element"
   ]
  },
  {
   "cell_type": "code",
   "execution_count": 33,
   "id": "fdbdcc3d-0bf5-4843-9e03-03df581e0354",
   "metadata": {},
   "outputs": [
    {
     "name": "stdout",
     "output_type": "stream",
     "text": [
      "1\n"
     ]
    }
   ],
   "source": [
    "pune_index = cities.index(\"pune\")\n",
    "print(pune_index)"
   ]
  },
  {
   "cell_type": "markdown",
   "id": "898519b1-ac29-4a2a-9212-6f36941a39a6",
   "metadata": {},
   "source": [
    "#### to find the length of given tuple"
   ]
  },
  {
   "cell_type": "code",
   "execution_count": 34,
   "id": "2795b165-3284-476c-8358-240cbd058450",
   "metadata": {},
   "outputs": [
    {
     "name": "stdout",
     "output_type": "stream",
     "text": [
      "4\n"
     ]
    }
   ],
   "source": [
    "print(len(cities))"
   ]
  },
  {
   "cell_type": "markdown",
   "id": "c7b626a2-083a-41cb-8466-229e7b5dd1af",
   "metadata": {},
   "source": [
    "# SETS"
   ]
  },
  {
   "cell_type": "code",
   "execution_count": 35,
   "id": "dc667d56-be8a-44ce-b748-178f6379754f",
   "metadata": {},
   "outputs": [
    {
     "name": "stdout",
     "output_type": "stream",
     "text": [
      "{'Kiwi', 'Mango', 'Apple', 'Banana'}\n"
     ]
    }
   ],
   "source": [
    "fruits = {\"Apple\",\"Banana\",\"Mango\",\"Kiwi\"}\n",
    "print(fruits)"
   ]
  },
  {
   "cell_type": "markdown",
   "id": "cef8fd62-7f3f-4542-8f80-65fcf2250bea",
   "metadata": {},
   "source": [
    "#### to add an element in the set(element will be added in the last)"
   ]
  },
  {
   "cell_type": "code",
   "execution_count": 36,
   "id": "c4ab7ab3-02ef-4c77-b3d5-f44f82e27d9c",
   "metadata": {},
   "outputs": [
    {
     "name": "stdout",
     "output_type": "stream",
     "text": [
      "fruits after add method: {'Apple', 'Banana', 'Mango', 'chiku', 'Kiwi'}\n"
     ]
    }
   ],
   "source": [
    "fruits.add(\"chiku\")\n",
    "print(\"fruits after add method:\",fruits)"
   ]
  },
  {
   "cell_type": "markdown",
   "id": "8030bc42-67a5-44f5-b00d-4d2048c3e0d9",
   "metadata": {},
   "source": [
    "#### to remove a element from given set"
   ]
  },
  {
   "cell_type": "code",
   "execution_count": 37,
   "id": "14dae350-1a4b-43ee-9eac-2eeac9e6e74f",
   "metadata": {},
   "outputs": [],
   "source": [
    "# To do Homework"
   ]
  },
  {
   "cell_type": "markdown",
   "id": "3cead6b0-74e7-4ce4-9136-76738bf2f411",
   "metadata": {},
   "source": [
    "#### to combine two sets in a single sets"
   ]
  },
  {
   "cell_type": "code",
   "execution_count": 38,
   "id": "a050ec1d-1ad7-47c1-94f5-ac2491989fb7",
   "metadata": {},
   "outputs": [
    {
     "name": "stdout",
     "output_type": "stream",
     "text": [
      "{1, 2, 3, 4, 5, 6}\n"
     ]
    }
   ],
   "source": [
    "set1 = {1,2,3,4}\n",
    "set2 = {4,5,6,4}\n",
    "union_set = set1.union(set2)\n",
    "print(union_set)"
   ]
  },
  {
   "cell_type": "markdown",
   "id": "5c74fc52-49e9-4860-ad0f-02f03847b820",
   "metadata": {},
   "source": [
    "#### to find out the common elements from both of the sets -intersection()-"
   ]
  },
  {
   "cell_type": "code",
   "execution_count": 39,
   "id": "517df7b2-a970-49cf-b49e-e16ffc2fe785",
   "metadata": {},
   "outputs": [
    {
     "name": "stdout",
     "output_type": "stream",
     "text": [
      "{4}\n"
     ]
    }
   ],
   "source": [
    "intersection_set = set1.intersection(set2)\n",
    "print(intersection_set)"
   ]
  },
  {
   "cell_type": "markdown",
   "id": "f601f8d9-a32b-4a92-9bb9-dd9a541150e3",
   "metadata": {},
   "source": [
    "#### to find out the elements which are not occuring multiple times in the second set -difference()-"
   ]
  },
  {
   "cell_type": "code",
   "execution_count": 40,
   "id": "8c410bbb-bc54-486f-a94e-e5cd789144f4",
   "metadata": {},
   "outputs": [
    {
     "name": "stdout",
     "output_type": "stream",
     "text": [
      "{5, 6}\n"
     ]
    }
   ],
   "source": [
    "difference_set = set1.difference(set2)\n",
    "difference_set2 = set2.difference(set1)\n",
    "\n",
    "print(difference_set2)"
   ]
  },
  {
   "cell_type": "markdown",
   "id": "d7759360-509b-474b-a5a7-7c0ca6501420",
   "metadata": {},
   "source": [
    "#### to find out the length of set "
   ]
  },
  {
   "cell_type": "code",
   "execution_count": 41,
   "id": "6df9153d-1b12-4077-8388-ab8331257790",
   "metadata": {},
   "outputs": [
    {
     "name": "stdout",
     "output_type": "stream",
     "text": [
      "4\n"
     ]
    }
   ],
   "source": [
    "#homework\n",
    "fruits = {\"Apple\",\"Banana\",\"Mango\",\"Kiwi\"}\n",
    "print(len(fruits))"
   ]
  },
  {
   "cell_type": "code",
   "execution_count": 42,
   "id": "f5f41915-c6f5-4068-906b-60e076215a8f",
   "metadata": {},
   "outputs": [
    {
     "name": "stdout",
     "output_type": "stream",
     "text": [
      "{'Kiwi', 'Mango', 'Banana'}\n"
     ]
    }
   ],
   "source": [
    "fruits.remove(\"Apple\")\n",
    "print(fruits)"
   ]
  },
  {
   "cell_type": "markdown",
   "id": "832bc781-2ba9-42c1-aa6d-acf45b3649fb",
   "metadata": {},
   "source": [
    "# DICTIONARY"
   ]
  },
  {
   "cell_type": "code",
   "execution_count": 43,
   "id": "b2b99b5a-24d1-4640-beff-062e98f8b6d1",
   "metadata": {},
   "outputs": [
    {
     "name": "stdout",
     "output_type": "stream",
     "text": [
      "{'english': 85, 'maths': 67, 'science': 78}\n"
     ]
    }
   ],
   "source": [
    "marks = {\"english\":85,\"maths\":67,\"science\":78}\n",
    "print(marks)"
   ]
  },
  {
   "cell_type": "markdown",
   "id": "c2b85ee2-7639-494a-9e92-d9eabcb1768f",
   "metadata": {},
   "source": [
    "#### access a particular value"
   ]
  },
  {
   "cell_type": "code",
   "execution_count": 44,
   "id": "3b315036-56b0-4915-a54a-2fe4b6292ad0",
   "metadata": {},
   "outputs": [
    {
     "name": "stdout",
     "output_type": "stream",
     "text": [
      "67\n"
     ]
    }
   ],
   "source": [
    "print(marks[\"maths\"])"
   ]
  },
  {
   "cell_type": "markdown",
   "id": "af3f9e22-3841-403a-a580-6f128ec95ea1",
   "metadata": {},
   "source": [
    "#### to find out the keys from the dictionary -keys()-"
   ]
  },
  {
   "cell_type": "code",
   "execution_count": 45,
   "id": "8824c18b-1c59-4428-9802-72bf4103ea1c",
   "metadata": {},
   "outputs": [
    {
     "name": "stdout",
     "output_type": "stream",
     "text": [
      "['english', 'maths', 'science']\n"
     ]
    }
   ],
   "source": [
    "print(list(marks.keys()))"
   ]
  },
  {
   "cell_type": "markdown",
   "id": "271c6f7a-a137-4ff0-9b08-37afccfc6813",
   "metadata": {},
   "source": [
    "#### to check if the key exist in dictionary"
   ]
  },
  {
   "cell_type": "code",
   "execution_count": 46,
   "id": "6656e561-020e-4aea-9885-cec62fba7b6b",
   "metadata": {},
   "outputs": [
    {
     "name": "stdout",
     "output_type": "stream",
     "text": [
      "False\n"
     ]
    }
   ],
   "source": [
    "print(\"history\" in marks)"
   ]
  },
  {
   "cell_type": "markdown",
   "id": "9e0b43a6-5cb5-4a13-9298-9f3ee00175d8",
   "metadata": {},
   "source": [
    "#### to find the values from the dictionary -values()- "
   ]
  },
  {
   "cell_type": "code",
   "execution_count": 47,
   "id": "536277e0-8e73-4743-8e3f-accd922ac07d",
   "metadata": {},
   "outputs": [
    {
     "name": "stdout",
     "output_type": "stream",
     "text": [
      "[85, 67, 78]\n"
     ]
    }
   ],
   "source": [
    "print(list(marks.values()))"
   ]
  },
  {
   "cell_type": "markdown",
   "id": "e04b43a0-a6d5-48ba-aecc-32c41bfc2285",
   "metadata": {},
   "source": [
    "#### to get all items from the dictionary -items()-"
   ]
  },
  {
   "cell_type": "code",
   "execution_count": 48,
   "id": "75b5962c-3d71-42ad-a3d4-a5e9655bb418",
   "metadata": {},
   "outputs": [
    {
     "name": "stdout",
     "output_type": "stream",
     "text": [
      "[('english', 85), ('maths', 67), ('science', 78)]\n"
     ]
    }
   ],
   "source": [
    "print(list(marks.items()))"
   ]
  },
  {
   "cell_type": "markdown",
   "id": "b5ae7b23-ef97-4990-97ac-e20a70629b88",
   "metadata": {},
   "source": [
    "#### access a particular value"
   ]
  },
  {
   "cell_type": "code",
   "execution_count": 49,
   "id": "2f7e4bb0-1b0f-4924-9075-abc9ff2d3610",
   "metadata": {},
   "outputs": [
    {
     "name": "stdout",
     "output_type": "stream",
     "text": [
      "67\n"
     ]
    }
   ],
   "source": [
    "print(marks.get(\"maths\"))"
   ]
  },
  {
   "cell_type": "markdown",
   "id": "c56a6817-af78-4b07-8c5f-1409807b4c1a",
   "metadata": {},
   "source": [
    "#### to edit the value of particular key in the dictionary or add a new key with its value"
   ]
  },
  {
   "cell_type": "code",
   "execution_count": 50,
   "id": "248aae28-68a5-41de-99dd-35068bf5d952",
   "metadata": {},
   "outputs": [
    {
     "name": "stdout",
     "output_type": "stream",
     "text": [
      "marks after updation {'english': 85, 'maths': 89, 'science': 78}\n"
     ]
    }
   ],
   "source": [
    "marks[\"maths\"]=89\n",
    "print(\"marks after updation\",marks)"
   ]
  },
  {
   "cell_type": "code",
   "execution_count": 51,
   "id": "7a5e2fbf-896f-4161-a28a-154d954f5500",
   "metadata": {},
   "outputs": [
    {
     "name": "stdout",
     "output_type": "stream",
     "text": [
      "marks after updation {'english': 85, 'maths': 89, 'science': 78, 'history': 89}\n"
     ]
    }
   ],
   "source": [
    "marks[\"history\"]=89\n",
    "print(\"marks after updation\",marks)"
   ]
  },
  {
   "cell_type": "markdown",
   "id": "02742a34-1f9c-48a8-9f9a-007b8f7d8e42",
   "metadata": {},
   "source": [
    "#### to delete a particular key from a dictionary"
   ]
  },
  {
   "cell_type": "code",
   "execution_count": 52,
   "id": "cde9d564-c455-4fc6-8661-73b4f230ff6f",
   "metadata": {},
   "outputs": [
    {
     "name": "stdout",
     "output_type": "stream",
     "text": [
      "marks after deletion: {'english': 85, 'maths': 89, 'science': 78}\n"
     ]
    }
   ],
   "source": [
    "del marks[\"history\"]\n",
    "print(\"marks after deletion:\",marks)"
   ]
  },
  {
   "cell_type": "markdown",
   "id": "93ab9628-18ce-4b31-8ad7-85f4fe3039ca",
   "metadata": {},
   "source": [
    "#### to find the length of the dictionary"
   ]
  },
  {
   "cell_type": "code",
   "execution_count": 53,
   "id": "abdb8db9-02c9-4264-8e47-0b8c96871669",
   "metadata": {},
   "outputs": [
    {
     "name": "stdout",
     "output_type": "stream",
     "text": [
      "3\n"
     ]
    }
   ],
   "source": [
    "print(len(marks))"
   ]
  },
  {
   "cell_type": "markdown",
   "id": "f547152e-4fce-4fdc-8c96-dc74cfaaa7a7",
   "metadata": {},
   "source": [
    "#### to clear the dictionary"
   ]
  },
  {
   "cell_type": "code",
   "execution_count": 54,
   "id": "9648a00a-4594-4381-907d-a080dc3dd28e",
   "metadata": {},
   "outputs": [
    {
     "name": "stdout",
     "output_type": "stream",
     "text": [
      "marks after clearation {}\n"
     ]
    }
   ],
   "source": [
    "marks.clear()\n",
    "print(\"marks after clearation\",marks)"
   ]
  },
  {
   "cell_type": "markdown",
   "id": "9087bcc7-42ad-4957-85da-cbd81f5f47ef",
   "metadata": {},
   "source": [
    "# FUNCTIONS"
   ]
  },
  {
   "cell_type": "code",
   "execution_count": 55,
   "id": "65d7be5a-43b2-4e49-bb6c-ca08614a6446",
   "metadata": {},
   "outputs": [
    {
     "name": "stdout",
     "output_type": "stream",
     "text": [
      "7 is odd\n"
     ]
    }
   ],
   "source": [
    "def check_even_odd(n):\n",
    "    if n % 2 == 0:\n",
    "        print(n,\"is even\")\n",
    "    else:\n",
    "        print(n,\"is odd\")\n",
    "check_even_odd(7)"
   ]
  },
  {
   "cell_type": "code",
   "execution_count": null,
   "id": "8e95aa4b-2ae5-4c18-b084-cf60604c6a4e",
   "metadata": {},
   "outputs": [],
   "source": []
  }
 ],
 "metadata": {
  "kernelspec": {
   "display_name": "Python 3 (ipykernel)",
   "language": "python",
   "name": "python3"
  },
  "language_info": {
   "codemirror_mode": {
    "name": "ipython",
    "version": 3
   },
   "file_extension": ".py",
   "mimetype": "text/x-python",
   "name": "python",
   "nbconvert_exporter": "python",
   "pygments_lexer": "ipython3",
   "version": "3.12.6"
  }
 },
 "nbformat": 4,
 "nbformat_minor": 5
}
