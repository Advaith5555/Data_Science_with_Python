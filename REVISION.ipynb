{
 "cells": [
  {
   "cell_type": "code",
   "execution_count": 4,
   "id": "a8c2b229-c99c-40df-90eb-d7d2b52a96f1",
   "metadata": {},
   "outputs": [
    {
     "name": "stdout",
     "output_type": "stream",
     "text": [
      "3\n",
      "6\n",
      "9\n",
      "12\n",
      "15\n",
      "18\n",
      "21\n",
      "24\n",
      "27\n",
      "30\n",
      "33\n",
      "36\n",
      "39\n",
      "42\n",
      "45\n",
      "48\n",
      "51\n",
      "54\n",
      "57\n",
      "60\n",
      "63\n",
      "66\n",
      "69\n",
      "72\n",
      "75\n",
      "78\n",
      "81\n",
      "84\n",
      "87\n",
      "90\n",
      "93\n",
      "96\n",
      "99\n"
     ]
    }
   ],
   "source": [
    "for n in range(1,101):\n",
    "    if n%3 == 0:\n",
    "        print(n)"
   ]
  },
  {
   "cell_type": "code",
   "execution_count": 8,
   "id": "0a5e4036-2bc2-4298-9bc7-333136b9c31e",
   "metadata": {},
   "outputs": [
    {
     "name": "stdout",
     "output_type": "stream",
     "text": [
      "3\n",
      "6\n",
      "9\n"
     ]
    }
   ],
   "source": [
    "def is_divisible_by_three(x,y): \n",
    "    for n in range(x,y):\n",
    "        if n%3 == 0:\n",
    "            print(n)\n",
    "is_divisible_by_three(1,11)"
   ]
  },
  {
   "cell_type": "code",
   "execution_count": 52,
   "id": "eb5b8536-ed57-445c-a09f-e35021384656",
   "metadata": {},
   "outputs": [],
   "source": [
    "def prime_number(x):\n",
    "    if (x == 1) or (x == 0):\n",
    "        print(\"this is not prime no\")\n",
    "    elif x > 1 : \n",
    "        for i in range(2,x):\n",
    "            if x%i == 0:\n",
    "                print(x,\"is not a prime no\")\n",
    "                \n",
    "            else: \n",
    "                print(x,\"is a prime no\")\n",
    "            break\n",
    "    else:\n",
    "        print(\"this is not a prime no\")"
   ]
  },
  {
   "cell_type": "code",
   "execution_count": 53,
   "id": "e287d395-1929-4257-a9d0-04b97fb01dec",
   "metadata": {},
   "outputs": [
    {
     "name": "stdout",
     "output_type": "stream",
     "text": [
      "this is not a prime no\n"
     ]
    }
   ],
   "source": [
    "prime_number(-5)"
   ]
  },
  {
   "cell_type": "code",
   "execution_count": 57,
   "id": "df14c91b-bbef-43c7-8604-2f93f7463b8a",
   "metadata": {},
   "outputs": [
    {
     "name": "stdout",
     "output_type": "stream",
     "text": [
      "1\n",
      "4\n",
      "9\n",
      "16\n",
      "25\n",
      "36\n",
      "49\n",
      "64\n",
      "81\n",
      "100\n"
     ]
    }
   ],
   "source": [
    "for x in range(1,11):\n",
    "    print(x*x)"
   ]
  },
  {
   "cell_type": "code",
   "execution_count": 64,
   "id": "7abeadc5-15d9-4f58-9fa4-afdbf23c6946",
   "metadata": {},
   "outputs": [
    {
     "name": "stdout",
     "output_type": "stream",
     "text": [
      "1\n",
      "4\n",
      "9\n",
      "16\n",
      "25\n",
      "36\n",
      "49\n",
      "64\n",
      "81\n",
      "100\n"
     ]
    }
   ],
   "source": [
    "arr = [1,2,3,4,5,6,7,8,9,10]\n",
    "for x in range(len(arr)):\n",
    "    print(arr[x]*arr[x])"
   ]
  },
  {
   "cell_type": "code",
   "execution_count": 66,
   "id": "a93ed592-0abd-434b-bee9-fe43c8f99cd6",
   "metadata": {},
   "outputs": [
    {
     "name": "stdout",
     "output_type": "stream",
     "text": [
      "1\n",
      "4\n",
      "9\n",
      "16\n",
      "25\n",
      "36\n",
      "49\n",
      "64\n",
      "81\n",
      "100\n"
     ]
    }
   ],
   "source": [
    "for n in arr:\n",
    "    print(arr[n-1]*arr[n-1])"
   ]
  },
  {
   "cell_type": "code",
   "execution_count": 68,
   "id": "7cc31e14-dae3-44e9-b033-0f94b32311f9",
   "metadata": {},
   "outputs": [
    {
     "name": "stdout",
     "output_type": "stream",
     "text": [
      "the square of 1 is 1\n",
      "the square of 2 is 4\n",
      "the square of 3 is 9\n",
      "the square of 4 is 16\n",
      "the square of 5 is 25\n",
      "the square of 6 is 36\n",
      "the square of 7 is 49\n",
      "the square of 8 is 64\n",
      "the square of 9 is 81\n",
      "the square of 10 is 100\n"
     ]
    }
   ],
   "source": [
    "for index, number in enumerate(arr):\n",
    "    print(f\"the square of {number} is {arr[index]*arr[index]}\")"
   ]
  },
  {
   "cell_type": "code",
   "execution_count": null,
   "id": "3b6194ee-021d-44dc-b342-b29777fa44bd",
   "metadata": {},
   "outputs": [],
   "source": []
  }
 ],
 "metadata": {
  "kernelspec": {
   "display_name": "Python 3 (ipykernel)",
   "language": "python",
   "name": "python3"
  },
  "language_info": {
   "codemirror_mode": {
    "name": "ipython",
    "version": 3
   },
   "file_extension": ".py",
   "mimetype": "text/x-python",
   "name": "python",
   "nbconvert_exporter": "python",
   "pygments_lexer": "ipython3",
   "version": "3.12.6"
  }
 },
 "nbformat": 4,
 "nbformat_minor": 5
}
