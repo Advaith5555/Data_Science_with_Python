{
 "cells": [
  {
   "cell_type": "markdown",
   "id": "5a4c1bc3-2b5a-4d4b-b9ba-b0c5df64c76a",
   "metadata": {},
   "source": [
    "# PANDAS"
   ]
  },
  {
   "cell_type": "code",
   "execution_count": 6,
   "id": "6ad562fd-2748-4076-bf24-0b9b798212d2",
   "metadata": {},
   "outputs": [],
   "source": [
    "import pandas as pd\n"
   ]
  },
  {
   "cell_type": "markdown",
   "id": "27979282-7252-457a-bea8-3ab40d068c5d",
   "metadata": {},
   "source": [
    "#### series"
   ]
  },
  {
   "cell_type": "code",
   "execution_count": 7,
   "id": "3f1ed7e8-a926-4b71-85a9-aa618ca8b648",
   "metadata": {},
   "outputs": [
    {
     "name": "stdout",
     "output_type": "stream",
     "text": [
      "0    1\n",
      "1    2\n",
      "2    3\n",
      "3    4\n",
      "4    5\n",
      "5    6\n",
      "6    7\n",
      "7    8\n",
      "dtype: int64\n",
      "a    1\n",
      "b    2\n",
      "c    3\n",
      "3    4\n",
      "4    5\n",
      "5    6\n",
      "5    7\n",
      "7    8\n",
      "dtype: int64\n"
     ]
    }
   ],
   "source": [
    "array = [1,2,3,4,5,6,7,8]\n",
    "series = pd.Series(array)\n",
    "print(series)\n",
    "custom_series = pd.Series(array,index = [\"a\",\"b\",\"c\",3,4,5,5,7])\n",
    "print(custom_series)"
   ]
  },
  {
   "cell_type": "markdown",
   "id": "f98f5235-716e-460c-b762-c03ca06de877",
   "metadata": {},
   "source": [
    "#### data frames"
   ]
  },
  {
   "cell_type": "code",
   "execution_count": null,
   "id": "a9fb3c71-6856-43f6-875d-753a744fbbda",
   "metadata": {},
   "outputs": [],
   "source": [
    "data = {\n",
    "        \"name\": [\"Advaith\",\"Adil\",\"ram\",\"sham\", \"bob\"],\n",
    "        \"department\": [\"CS\",\"IT\",\"CS\",\"IT\", \"CS\"],\n",
    "        \"marks\":[85,90,78, 88, 76],\n",
    "        \"passed\" : [True, True, True, True, False]\n",
    "       }\n",
    "dataf = pd.DataFrame(data)\n",
    "print(df)"
   ]
  },
  {
   "cell_type": "markdown",
   "id": "f69fdb9a-b4b7-493a-9cbd-f2f4eaf2fc0d",
   "metadata": {},
   "source": [
    "#### filtering data"
   ]
  },
  {
   "cell_type": "code",
   "execution_count": 8,
   "id": "3e079903-5550-4246-804f-30e8732cdc9a",
   "metadata": {},
   "outputs": [
    {
     "ename": "NameError",
     "evalue": "name 'df' is not defined",
     "output_type": "error",
     "traceback": [
      "\u001b[1;31m---------------------------------------------------------------------------\u001b[0m",
      "\u001b[1;31mNameError\u001b[0m                                 Traceback (most recent call last)",
      "Cell \u001b[1;32mIn[8], line 1\u001b[0m\n\u001b[1;32m----> 1\u001b[0m high_score \u001b[38;5;241m=\u001b[39m \u001b[43mdf\u001b[49m[dataf[\u001b[38;5;124m\"\u001b[39m\u001b[38;5;124mmarks\u001b[39m\u001b[38;5;124m\"\u001b[39m]\u001b[38;5;241m>\u001b[39m\u001b[38;5;241m80\u001b[39m] \u001b[38;5;66;03m# filter rows where marks > 80\u001b[39;00m\n\u001b[0;32m      2\u001b[0m \u001b[38;5;28mprint\u001b[39m(high_score)\n",
      "\u001b[1;31mNameError\u001b[0m: name 'df' is not defined"
     ]
    }
   ],
   "source": [
    "high_score = df[dataf[\"marks\"]>80] # filter rows where marks > 80\n",
    "print(high_score)"
   ]
  },
  {
   "cell_type": "code",
   "execution_count": null,
   "id": "1ce3979b-0b58-40fa-87e5-c5abdfcce005",
   "metadata": {},
   "outputs": [],
   "source": [
    "cs = df[dataf[\"department\"] == \"CS\"] # filter only cs department students\n",
    "print(cs)"
   ]
  },
  {
   "cell_type": "code",
   "execution_count": null,
   "id": "0518ead9-9201-4ebe-ba0f-c9820ea0068a",
   "metadata": {},
   "outputs": [],
   "source": [
    "passed = df[(dataf[\"passed\"] == True) & (dataf[\"marks\"] > 80)] # filter students who passed and scored more than 80\n",
    "print(passed)"
   ]
  },
  {
   "cell_type": "markdown",
   "id": "87799534-6196-462b-bf44-f1f21da78d91",
   "metadata": {},
   "source": [
    "#### grouping"
   ]
  },
  {
   "cell_type": "code",
   "execution_count": null,
   "id": "050303c6-beeb-4cbe-b0d6-c2f57d067564",
   "metadata": {},
   "outputs": [],
   "source": [
    "avg_marks = dataf.groupby(\"department\")[\"marks\"].mean()\n",
    "print(avg_marks)"
   ]
  },
  {
   "cell_type": "code",
   "execution_count": null,
   "id": "2ebfa176-fc5e-4639-92d5-b5ab4e2fbd5d",
   "metadata": {},
   "outputs": [],
   "source": [
    "no_of_std = dataf.groupby(\"department\")[\"name\"].count()\n",
    "print(no_of_std)"
   ]
  },
  {
   "cell_type": "code",
   "execution_count": null,
   "id": "dfea4bd5-35dd-4828-a3d5-4c41cd7eeedf",
   "metadata": {},
   "outputs": [],
   "source": [
    "std_passed = dataf.groupby(\"department\")[\"passed\"].sum()\n",
    "print(std_passed)"
   ]
  },
  {
   "cell_type": "markdown",
   "id": "35ba3cf3-675c-471c-9235-cd6a204672f6",
   "metadata": {},
   "source": [
    "#### add new column based on condition"
   ]
  },
  {
   "cell_type": "code",
   "execution_count": null,
   "id": "46260990-788f-4098-a348-5648a5767415",
   "metadata": {},
   "outputs": [],
   "source": [
    "dataf[\"grades\"] = [\"A\"if mark>=85 else \"B\" for mark in dataf[\"marks\"]]\n",
    "print(dataf)"
   ]
  },
  {
   "cell_type": "code",
   "execution_count": null,
   "id": "a3474ea7-be8e-42f2-aac4-ec287824e48d",
   "metadata": {},
   "outputs": [],
   "source": [
    "dataf.to_csv(\"student_details.csv\",index = False)"
   ]
  },
  {
   "cell_type": "code",
   "execution_count": null,
   "id": "f865c5ef-0b2e-4087-9c69-ba41616df22c",
   "metadata": {},
   "outputs": [],
   "source": [
    "loaded_df = pd.read_csv(\"excel.csv\")\n",
    "print(loaded_df)"
   ]
  },
  {
   "cell_type": "code",
   "execution_count": null,
   "id": "4e9385e2-bb59-4f0c-9a24-a0f5b89f68ad",
   "metadata": {},
   "outputs": [],
   "source": [
    "print(loaded_df.head())"
   ]
  },
  {
   "cell_type": "code",
   "execution_count": null,
   "id": "8cb13b01-de8e-431d-949d-9d260331325c",
   "metadata": {},
   "outputs": [],
   "source": [
    "print(loaded_df.tail())"
   ]
  },
  {
   "cell_type": "code",
   "execution_count": 10,
   "id": "e04ecd88-bdc5-4422-ba1b-5eb65f0254ec",
   "metadata": {},
   "outputs": [
    {
     "name": "stdout",
     "output_type": "stream",
     "text": [
      "      name department  marks  passed\n",
      "0  Advaith         CS     85    True\n",
      "1     Adil         IT     90    True\n",
      "2      ram         CS     78    True\n",
      "3     sham         IT     88    True\n",
      "4      bob         CS     76   False\n"
     ]
    }
   ],
   "source": [
    "data = {\n",
    "        \"name\": [\"Advaith\",\"Adil\",\"ram\",\"sham\", \"bob\"],\n",
    "        \"department\": [\"CS\",\"IT\",\"CS\",\"IT\", \"CS\"],\n",
    "        \"marks\":[85,90,78, 88, 76],\n",
    "        \"passed\" : [True, True, True, True, False]\n",
    "       }\n",
    "dataf = pd.DataFrame(data)\n",
    "print(dataf)"
   ]
  },
  {
   "cell_type": "code",
   "execution_count": 30,
   "id": "87dbb2d6-3de2-4f63-8352-0546ead327a1",
   "metadata": {},
   "outputs": [
    {
     "name": "stdout",
     "output_type": "stream",
     "text": [
      "      name department  marks  passed grades\n",
      "0  Advaith         CS     85    True      A\n",
      "1     Adil         IT     90    True      A\n",
      "2      ram         CS     78    True      B\n",
      "3     sham         IT     88    True      A\n",
      "4      bob         CS     76   False      B\n"
     ]
    }
   ],
   "source": [
    "dataf[\"grades\"] = [\"A\"if mark>=85 else \"B\" for mark in dataf[\"marks\"]]\n",
    "print(dataf)"
   ]
  },
  {
   "cell_type": "code",
   "execution_count": 32,
   "id": "d33eddd2-a78e-4fab-b235-0b07c3faea88",
   "metadata": {},
   "outputs": [
    {
     "name": "stdout",
     "output_type": "stream",
     "text": [
      "      name department  marks  passed\n",
      "0  Advaith         CS     85    True\n",
      "1     Adil         IT     90    True\n",
      "2      ram         CS     78    True\n",
      "3     sham         IT     88    True\n",
      "4      bob         CS     76   False\n"
     ]
    }
   ],
   "source": [
    "dataf.drop(\"grades\", axis=1, inplace=True)\n",
    "print(dataf)"
   ]
  },
  {
   "cell_type": "code",
   "execution_count": 33,
   "id": "67b9d41f-daa3-4203-b0af-b1a22ce5101c",
   "metadata": {},
   "outputs": [
    {
     "name": "stdout",
     "output_type": "stream",
     "text": [
      "      name department  marks  passed\n",
      "4      bob         CS     76   False\n",
      "2      ram         CS     78    True\n",
      "0  Advaith         CS     85    True\n",
      "3     sham         IT     88    True\n",
      "1     Adil         IT     90    True\n"
     ]
    }
   ],
   "source": [
    "dataf.sort_values(by=\"marks\", inplace=True)\n",
    "print(dataf)\n"
   ]
  },
  {
   "cell_type": "code",
   "execution_count": null,
   "id": "52b8d5dd-b3bf-45f7-b1a6-f5ac726248a9",
   "metadata": {},
   "outputs": [],
   "source": []
  }
 ],
 "metadata": {
  "kernelspec": {
   "display_name": "Python 3 (ipykernel)",
   "language": "python",
   "name": "python3"
  },
  "language_info": {
   "codemirror_mode": {
    "name": "ipython",
    "version": 3
   },
   "file_extension": ".py",
   "mimetype": "text/x-python",
   "name": "python",
   "nbconvert_exporter": "python",
   "pygments_lexer": "ipython3",
   "version": "3.12.6"
  }
 },
 "nbformat": 4,
 "nbformat_minor": 5
}
