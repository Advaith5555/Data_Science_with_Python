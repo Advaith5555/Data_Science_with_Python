{
 "cells": [
  {
   "cell_type": "markdown",
   "id": "7a8f5fc8-7c17-4f85-9403-493e81a7293f",
   "metadata": {},
   "source": [
    "# We will build a simple perceptron to solve a logical AND problem"
   ]
  },
  {
   "cell_type": "markdown",
   "id": "2aab7ce4-3b8b-48a7-b8f2-2cb02ed5f2db",
   "metadata": {},
   "source": [
    "| Input 1 | Input 2 | Output (OR) |\n",
    "|---------|---------|-------------|\n",
    "| 0 | 0 | 0 |\n",
    "| 0 | 1 | 0 |\n",
    "| 1 | 0 | 0 |\n",
    "| 1 | 1 | 1 |"
   ]
  },
  {
   "cell_type": "code",
   "execution_count": 25,
   "id": "0b62d21d-be25-4da5-8c0c-c7d0ce9039eb",
   "metadata": {},
   "outputs": [],
   "source": [
    "import numpy as np"
   ]
  },
  {
   "cell_type": "code",
   "execution_count": 26,
   "id": "c0f62835-0aa0-47bc-b149-56d06f4b71d1",
   "metadata": {},
   "outputs": [
    {
     "name": "stdout",
     "output_type": "stream",
     "text": [
      "[[0 0]\n",
      " [0 1]\n",
      " [1 0]\n",
      " [1 1]]\n"
     ]
    }
   ],
   "source": [
    "X = np.array([[0, 0],\n",
    "              [0, 1],\n",
    "              [1, 0],\n",
    "              [1, 1]])\n",
    "\n",
    "print(X)"
   ]
  },
  {
   "cell_type": "code",
   "execution_count": 27,
   "id": "9eff9a45-2559-4c83-ad7d-9b8ee7324ef9",
   "metadata": {},
   "outputs": [
    {
     "name": "stdout",
     "output_type": "stream",
     "text": [
      "[0 0 0 1]\n"
     ]
    }
   ],
   "source": [
    "y = np.array([0,0,0,1])\n",
    "\n",
    "print(y)"
   ]
  },
  {
   "cell_type": "code",
   "execution_count": 32,
   "id": "2bb16850-5ec1-4a5b-977c-366b4ec21ca3",
   "metadata": {},
   "outputs": [],
   "source": [
    "weights = np.random.rand(2) \n",
    "bias =np.random.rand(1)\n",
    "\n",
    "def ReLU(x): \n",
    "    return 1 / (1 + np.exp(-x))\n",
    "    \n",
    "def ReLU_derivative(x):\n",
    "    return x * (1-x)"
   ]
  },
  {
   "cell_type": "code",
   "execution_count": 40,
   "id": "f095c227-8fb7-4e95-903f-1c7af2439a09",
   "metadata": {},
   "outputs": [],
   "source": [
    "learning_rate = 0.1\n",
    "epochs = 10000 "
   ]
  },
  {
   "cell_type": "code",
   "execution_count": 41,
   "id": "ae6f2584-af35-4a64-a04f-c98b5b849fff",
   "metadata": {},
   "outputs": [
    {
     "name": "stdout",
     "output_type": "stream",
     "text": [
      "weights : [12.51023104 12.51002848]\n",
      "Bias : [-18.93339028]\n"
     ]
    }
   ],
   "source": [
    "for epoch in range (epochs):\n",
    "    for i in range (len(X)):\n",
    "\n",
    "        z = np.dot(X[i], weights) + bias\n",
    "        \n",
    "        output = ReLU(z)\n",
    "\n",
    "        error = y[i] - output\n",
    "\n",
    "        weights += learning_rate * error * X[i]\n",
    "\n",
    "        bias += learning_rate * error \n",
    "\n",
    "print(f\"weights : {weights}\")\n",
    "print(f\"Bias : {bias}\")"
   ]
  },
  {
   "cell_type": "code",
   "execution_count": 42,
   "id": "ff656c18-ada2-494d-a11f-c979bc6dbbfa",
   "metadata": {},
   "outputs": [
    {
     "name": "stdout",
     "output_type": "stream",
     "text": [
      "\n",
      " testing the AND Gate perceptron\n",
      "Input: [0 0] | Predicted: 0 | Actual: 0\n",
      "Input: [0 1] | Predicted: 0 | Actual: 0\n",
      "Input: [1 0] | Predicted: 0 | Actual: 0\n",
      "Input: [1 1] | Predicted: 1 | Actual: 1\n"
     ]
    },
    {
     "name": "stderr",
     "output_type": "stream",
     "text": [
      "C:\\Users\\Smita\\AppData\\Local\\Temp\\ipykernel_14532\\1699235284.py:8: DeprecationWarning: Conversion of an array with ndim > 0 to a scalar is deprecated, and will error in future. Ensure you extract a single element from your array before performing this operation. (Deprecated NumPy 1.25.)\n",
      "  print(f\"Input: {X[i]} | Predicted: {round(float(output))} | Actual: {y[i]}\" )\n"
     ]
    }
   ],
   "source": [
    "print(\"\\n testing the AND Gate perceptron\")\n",
    "\n",
    "for i in range (len(X)):\n",
    "    z = np.dot(X[i], weights) + bias\n",
    "\n",
    "    output = ReLU(z)\n",
    "\n",
    "    print(f\"Input: {X[i]} | Predicted: {round(float(output))} | Actual: {y[i]}\" )"
   ]
  },
  {
   "cell_type": "code",
   "execution_count": null,
   "id": "bd86f7cd-3153-458d-a7d0-3417de0eb316",
   "metadata": {},
   "outputs": [],
   "source": []
  }
 ],
 "metadata": {
  "kernelspec": {
   "display_name": "Python 3 (ipykernel)",
   "language": "python",
   "name": "python3"
  },
  "language_info": {
   "codemirror_mode": {
    "name": "ipython",
    "version": 3
   },
   "file_extension": ".py",
   "mimetype": "text/x-python",
   "name": "python",
   "nbconvert_exporter": "python",
   "pygments_lexer": "ipython3",
   "version": "3.12.6"
  }
 },
 "nbformat": 4,
 "nbformat_minor": 5
}
