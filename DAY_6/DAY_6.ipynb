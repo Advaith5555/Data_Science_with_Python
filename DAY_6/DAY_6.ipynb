{
 "cells": [
  {
   "cell_type": "markdown",
   "id": "f00140d1-a49e-4e7b-89bf-93acaafbb4fe",
   "metadata": {},
   "source": [
    "# Linear Algebra For Machine Learning"
   ]
  },
  {
   "cell_type": "markdown",
   "id": "d7df5187-05f5-4b52-8906-ac738ba65ae5",
   "metadata": {},
   "source": [
    "#### VECTORS AND DOT PRODUCTS"
   ]
  },
  {
   "cell_type": "code",
   "execution_count": 30,
   "id": "3d17d5c0-cba5-47e4-a65a-b2b53e484e69",
   "metadata": {},
   "outputs": [
    {
     "name": "stdout",
     "output_type": "stream",
     "text": [
      "32\n"
     ]
    }
   ],
   "source": [
    "import numpy as np\n",
    "array1 = np.array([1,2,3])\n",
    "array2 = np.array([4,5,6])\n",
    "print(np.dot(array1,array2))\n"
   ]
  },
  {
   "cell_type": "markdown",
   "id": "f387a511-e24c-4565-89f6-d8b83b3e0357",
   "metadata": {},
   "source": [
    "#### matrices and operations(2d)"
   ]
  },
  {
   "cell_type": "code",
   "execution_count": 31,
   "id": "21e46ad3-ce2f-4913-8c7a-ac0c7d992432",
   "metadata": {},
   "outputs": [
    {
     "name": "stdout",
     "output_type": "stream",
     "text": [
      "[[1 2]\n",
      " [3 4]]\n",
      "[[5 6]\n",
      " [7 8]]\n"
     ]
    }
   ],
   "source": [
    "A = np.array([[1,2],[3,4]])\n",
    "B = np.array([[5,6],[7,8]])\n",
    "print(A)\n",
    "print(B)"
   ]
  },
  {
   "cell_type": "markdown",
   "id": "80fc9910-5d10-4221-9f8a-ccce343fef81",
   "metadata": {},
   "source": [
    "#### matrices and operations(3d)"
   ]
  },
  {
   "cell_type": "code",
   "execution_count": 32,
   "id": "9ef238e3-55a7-4112-b261-f9befe09eaa4",
   "metadata": {},
   "outputs": [
    {
     "name": "stdout",
     "output_type": "stream",
     "text": [
      "[[1 2 3]\n",
      " [0 1 4]\n",
      " [5 6 0]]\n",
      "[[10 11 12]\n",
      " [13 14 15]\n",
      " [16 17 18]]\n"
     ]
    }
   ],
   "source": [
    "C = np.array([[1, 2, 3],\n",
    "              [0, 1, 4],\n",
    "              [5, 6, 0]])\n",
    "D = np.array([[10,11,12],[13,14,15],[16,17,18]])\n",
    "print(C)\n",
    "print(D)"
   ]
  },
  {
   "cell_type": "markdown",
   "id": "67a6ef9f-0910-408d-b61d-68a5f52ed3f8",
   "metadata": {},
   "source": [
    "#### addition and substraction of matrix(2d)"
   ]
  },
  {
   "cell_type": "code",
   "execution_count": 33,
   "id": "11498104-1d47-45f6-b149-99ad060cb77c",
   "metadata": {},
   "outputs": [
    {
     "name": "stdout",
     "output_type": "stream",
     "text": [
      "A+B\n",
      " [[ 6  8]\n",
      " [10 12]]\n",
      "A-B\n",
      " [[-4 -4]\n",
      " [-4 -4]]\n"
     ]
    }
   ],
   "source": [
    "print(\"A+B\\n\",A+B)\n",
    "print(\"A-B\\n\",A-B)"
   ]
  },
  {
   "cell_type": "markdown",
   "id": "06e248e9-64e1-4292-8bcb-db57449713ac",
   "metadata": {},
   "source": [
    "#### addition and substraction of matrix(3d)"
   ]
  },
  {
   "cell_type": "code",
   "execution_count": 34,
   "id": "b54d7816-2861-4956-89bc-44785c6111a4",
   "metadata": {},
   "outputs": [
    {
     "name": "stdout",
     "output_type": "stream",
     "text": [
      "C+D\n",
      " [[11 13 15]\n",
      " [13 15 19]\n",
      " [21 23 18]]\n",
      "C-D\n",
      " [[ -9  -9  -9]\n",
      " [-13 -13 -11]\n",
      " [-11 -11 -18]]\n"
     ]
    }
   ],
   "source": [
    "print(\"C+D\\n\",C+D)\n",
    "print(\"C-D\\n\",C-D)"
   ]
  },
  {
   "cell_type": "markdown",
   "id": "ba7c21f3-8bb2-4d27-97d9-e08ce3ff7251",
   "metadata": {},
   "source": [
    "#### matrix element wise multiplication(2d)"
   ]
  },
  {
   "cell_type": "code",
   "execution_count": 35,
   "id": "fec82b07-86a2-4cb1-8f28-46c64d6d8e0c",
   "metadata": {},
   "outputs": [
    {
     "name": "stdout",
     "output_type": "stream",
     "text": [
      "A*B\n",
      " [[ 5 12]\n",
      " [21 32]]\n"
     ]
    }
   ],
   "source": [
    "print(\"A*B\\n\",A*B)\n"
   ]
  },
  {
   "cell_type": "markdown",
   "id": "02a6ac78-9ed7-4739-b558-67421de023c1",
   "metadata": {},
   "source": [
    "#### matrix element wise multiplication(2d)"
   ]
  },
  {
   "cell_type": "code",
   "execution_count": 36,
   "id": "6eeb8063-8328-4f67-8b19-f4c387c0e7eb",
   "metadata": {},
   "outputs": [
    {
     "name": "stdout",
     "output_type": "stream",
     "text": [
      "C*D\n",
      " [[ 10  22  36]\n",
      " [  0  14  60]\n",
      " [ 80 102   0]]\n"
     ]
    }
   ],
   "source": [
    "print(\"C*D\\n\",C*D)\n"
   ]
  },
  {
   "cell_type": "markdown",
   "id": "626e7eed-3204-46b3-adab-5c402a169d93",
   "metadata": {},
   "source": [
    "#### dot product of 2d array"
   ]
  },
  {
   "cell_type": "code",
   "execution_count": 37,
   "id": "8760795e-542a-4007-9e58-42e3a8ce7556",
   "metadata": {},
   "outputs": [
    {
     "name": "stdout",
     "output_type": "stream",
     "text": [
      "[[19 22]\n",
      " [43 50]]\n"
     ]
    }
   ],
   "source": [
    "print(A@B)"
   ]
  },
  {
   "cell_type": "markdown",
   "id": "5e29fec9-f7c0-4d80-99c5-581f14edf045",
   "metadata": {},
   "source": [
    "#### dot product of 3d array"
   ]
  },
  {
   "cell_type": "code",
   "execution_count": 38,
   "id": "8adc05f3-a826-4b83-9f8f-4d02070d2e1f",
   "metadata": {},
   "outputs": [
    {
     "name": "stdout",
     "output_type": "stream",
     "text": [
      "[[ 84  90  96]\n",
      " [ 77  82  87]\n",
      " [128 139 150]]\n"
     ]
    }
   ],
   "source": [
    "print(C@D)"
   ]
  },
  {
   "cell_type": "markdown",
   "id": "5f3740f4-cbe5-46ae-bb82-a18e4ec38bf5",
   "metadata": {},
   "source": [
    "#### transpose of matrix (AT)(2d)"
   ]
  },
  {
   "cell_type": "code",
   "execution_count": 39,
   "id": "849402fc-f13c-4240-bac3-a072daeba5d5",
   "metadata": {},
   "outputs": [
    {
     "name": "stdout",
     "output_type": "stream",
     "text": [
      "[[1 3]\n",
      " [2 4]]\n"
     ]
    }
   ],
   "source": [
    "print(A.T)"
   ]
  },
  {
   "cell_type": "markdown",
   "id": "73bb926f-1f8f-48b6-bc77-1341f166def9",
   "metadata": {},
   "source": [
    "#### transpose of matrix (AT)(3d)"
   ]
  },
  {
   "cell_type": "code",
   "execution_count": 40,
   "id": "f317f904-c508-473e-8382-7be36f71e4fa",
   "metadata": {},
   "outputs": [
    {
     "name": "stdout",
     "output_type": "stream",
     "text": [
      "[[1 0 5]\n",
      " [2 1 6]\n",
      " [3 4 0]]\n"
     ]
    }
   ],
   "source": [
    "print(C.T)"
   ]
  },
  {
   "cell_type": "markdown",
   "id": "14ea6d0a-05bd-4459-b688-4b1ce20fa34f",
   "metadata": {},
   "source": [
    "#### Identity Matrix (I)"
   ]
  },
  {
   "cell_type": "code",
   "execution_count": 41,
   "id": "a8c3c874-b09e-4779-9d72-aea6e338ca8e",
   "metadata": {},
   "outputs": [
    {
     "name": "stdout",
     "output_type": "stream",
     "text": [
      "[[1. 0. 0. 0.]\n",
      " [0. 1. 0. 0.]\n",
      " [0. 0. 1. 0.]\n",
      " [0. 0. 0. 1.]]\n"
     ]
    }
   ],
   "source": [
    "I = np.eye(4)\n",
    "print(I)"
   ]
  },
  {
   "cell_type": "markdown",
   "id": "60884c07-3afc-48e7-9883-ef58846e3681",
   "metadata": {},
   "source": [
    "#### inverse of matrix(2d)"
   ]
  },
  {
   "cell_type": "code",
   "execution_count": 42,
   "id": "a8924daf-1f65-4256-95a2-36f2f779e691",
   "metadata": {},
   "outputs": [
    {
     "name": "stdout",
     "output_type": "stream",
     "text": [
      "[[1 2]\n",
      " [3 4]]\n",
      "[[-2.   1. ]\n",
      " [ 1.5 -0.5]]\n",
      "[[1 2 3]\n",
      " [0 1 4]\n",
      " [5 6 0]]\n",
      "[[-24.  18.   5.]\n",
      " [ 20. -15.  -4.]\n",
      " [ -5.   4.   1.]]\n"
     ]
    }
   ],
   "source": [
    "A_inv = np.linalg.inv(A)\n",
    "print(A)\n",
    "print(A_inv)\n",
    "C_inv = np.linalg.inv(C)\n",
    "print(C)\n",
    "print(C_inv)"
   ]
  },
  {
   "cell_type": "markdown",
   "id": "cb2b5dfb-b7b5-421e-be4e-6de62f559d60",
   "metadata": {},
   "source": [
    "#### verify A*A-1 = I(Identity)"
   ]
  },
  {
   "cell_type": "code",
   "execution_count": 43,
   "id": "c85294f6-c753-40ed-90b5-57a3e093fab6",
   "metadata": {},
   "outputs": [
    {
     "name": "stdout",
     "output_type": "stream",
     "text": [
      "[[1. 0.]\n",
      " [0. 1.]]\n"
     ]
    }
   ],
   "source": [
    "print(np.round(A@A_inv))"
   ]
  },
  {
   "cell_type": "markdown",
   "id": "b67061f7-0d03-4841-8dc9-3865a1ac844a",
   "metadata": {},
   "source": [
    "#### determinant of matrix(2d)"
   ]
  },
  {
   "cell_type": "code",
   "execution_count": 44,
   "id": "1fdb799e-1807-457c-b126-021a69b9e826",
   "metadata": {},
   "outputs": [
    {
     "name": "stdout",
     "output_type": "stream",
     "text": [
      "-2.0000000000000004\n"
     ]
    }
   ],
   "source": [
    "det_A = np.linalg.det(A)\n",
    "print(det_A)"
   ]
  },
  {
   "cell_type": "markdown",
   "id": "ec7b816b-57ea-4f6f-bc5e-777138ebbb15",
   "metadata": {},
   "source": [
    "#### determinant of matrix(3d)"
   ]
  },
  {
   "cell_type": "code",
   "execution_count": 45,
   "id": "757e70db-3fe2-4835-9659-3dd1c18af88d",
   "metadata": {},
   "outputs": [
    {
     "name": "stdout",
     "output_type": "stream",
     "text": [
      "0.9999999999999964\n"
     ]
    }
   ],
   "source": [
    "det_C = np.linalg.det(C)\n",
    "print(det_C)"
   ]
  },
  {
   "cell_type": "markdown",
   "id": "089182ca-1eee-46ff-a0ae-641d68bfe60f",
   "metadata": {},
   "source": [
    "#### eigen values and eigen vectors(2d)"
   ]
  },
  {
   "cell_type": "code",
   "execution_count": 46,
   "id": "94748420-d139-4e8f-8200-9160840331ba",
   "metadata": {},
   "outputs": [
    {
     "name": "stdout",
     "output_type": "stream",
     "text": [
      "EVal [-0.37228132  5.37228132]\n",
      "EVec [[-0.82456484 -0.41597356]\n",
      " [ 0.56576746 -0.90937671]]\n"
     ]
    }
   ],
   "source": [
    "eig_vals, eig_vecs = np.linalg.eig(A)\n",
    "print(\"EVal\",eig_vals)\n",
    "print(\"EVec\",eig_vecs)"
   ]
  },
  {
   "cell_type": "markdown",
   "id": "e6caf46c-0ad4-47f4-ae0f-595532e2f826",
   "metadata": {},
   "source": [
    "#### eigen values and eigen vectors(3d)"
   ]
  },
  {
   "cell_type": "code",
   "execution_count": 47,
   "id": "f1cd3e90-4bb6-44f3-b176-dbc931fe49da",
   "metadata": {},
   "outputs": [
    {
     "name": "stdout",
     "output_type": "stream",
     "text": [
      "EVal [-5.2296696  -0.02635282  7.25602242]\n",
      "EVec [[ 0.22578016 -0.75769839 -0.49927017]\n",
      " [ 0.52634845  0.63212771 -0.46674201]\n",
      " [-0.81974424 -0.16219652 -0.72998712]]\n"
     ]
    }
   ],
   "source": [
    "eig_vals, eig_vecs = np.linalg.eig(C)\n",
    "print(\"EVal\",eig_vals)\n",
    "print(\"EVec\",eig_vecs)"
   ]
  },
  {
   "cell_type": "code",
   "execution_count": null,
   "id": "b9518088-3eeb-4743-8445-6bd58ffd8b4f",
   "metadata": {},
   "outputs": [],
   "source": []
  }
 ],
 "metadata": {
  "kernelspec": {
   "display_name": "Python 3 (ipykernel)",
   "language": "python",
   "name": "python3"
  },
  "language_info": {
   "codemirror_mode": {
    "name": "ipython",
    "version": 3
   },
   "file_extension": ".py",
   "mimetype": "text/x-python",
   "name": "python",
   "nbconvert_exporter": "python",
   "pygments_lexer": "ipython3",
   "version": "3.12.6"
  }
 },
 "nbformat": 4,
 "nbformat_minor": 5
}
