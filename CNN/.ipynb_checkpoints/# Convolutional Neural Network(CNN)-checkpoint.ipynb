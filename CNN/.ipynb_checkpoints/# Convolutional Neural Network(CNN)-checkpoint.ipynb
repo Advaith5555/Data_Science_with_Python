{
 "cells": [
  {
   "cell_type": "markdown",
   "id": "2fa72e76-afb8-45d0-925a-38a2f197a5cb",
   "metadata": {},
   "source": [
    "# Convolutional Neural Network (CNN)"
   ]
  },
  {
   "cell_type": "markdown",
   "id": "c0b490a4-b2a2-44f1-9a48-76691bc95d2a",
   "metadata": {},
   "source": [
    "#### What is CNN?"
   ]
  },
  {
   "cell_type": "markdown",
   "id": "db3d1a03-5523-4aa3-8611-b165df8786e8",
   "metadata": {},
   "source": [
    "- CNN are `special neural networks` for `images`\n",
    "- They learn to detect patterns like\n",
    "- 1. Edges\n",
    "  2. Shapes\n",
    "  3. Textures\n",
    "  4. Objects\n",
    "- Instead of feeding raw image pixles to a normal ANN, CNN uses filters (kernals) that slides over the image and extract features just like your eyes scanning an object"
   ]
  },
  {
   "cell_type": "markdown",
   "id": "9825ab0a-f50c-4e3c-995f-522ef1016d4f",
   "metadata": {},
   "source": [
    "#### CNN structure :\n",
    "- input image => Convolution => ReLU => Pooling\n",
    "-                     🡻\n",
    "-                  flattern => dense layers => output  "
   ]
  },
  {
   "cell_type": "markdown",
   "id": "97613d8e-6c7d-4b84-9162-3e95e9a4ca61",
   "metadata": {},
   "source": [
    "#### Dataset : MNIST (28*28 images of digits 0-9)"
   ]
  },
  {
   "cell_type": "markdown",
   "id": "b4887a58-e00f-4025-bb3a-b2ed08a77cc2",
   "metadata": {},
   "source": [
    "- Each image is 28*28 pixels \n",
    "- Greyscale\n",
    "- labeled with the correct digit (0-9)"
   ]
  },
  {
   "cell_type": "code",
   "execution_count": 3,
   "id": "03dc3678-d371-4905-ab6e-4d2a221d4406",
   "metadata": {},
   "outputs": [],
   "source": [
    "import tensorflow as tf\n",
    "from tensorflow.keras.datasets import mnist\n",
    "from tensorflow.keras.utils import to_categorical\n",
    "from tensorflow.keras.models import Sequential\n",
    "from tensorflow.keras.layers import Conv2D, MaxPooling2D, Flatten, Dense, Dropout\n",
    "import matplotlib.pyplot as plt"
   ]
  },
  {
   "cell_type": "code",
   "execution_count": 4,
   "id": "b3558da2-6a30-41e7-a5ef-cb794cc991a2",
   "metadata": {},
   "outputs": [
    {
     "name": "stdout",
     "output_type": "stream",
     "text": [
      "Downloading data from https://storage.googleapis.com/tensorflow/tf-keras-datasets/mnist.npz\n",
      "\u001b[1m11490434/11490434\u001b[0m \u001b[32m━━━━━━━━━━━━━━━━━━━━\u001b[0m\u001b[37m\u001b[0m \u001b[1m4s\u001b[0m 0us/step\n"
     ]
    }
   ],
   "source": [
    "(X_train, y_train), (X_test, y_test) = mnist.load_data()"
   ]
  },
  {
   "cell_type": "markdown",
   "id": "c0bce15b-28ad-425f-8872-be66231aadfd",
   "metadata": {},
   "source": [
    "#### Reshape for CNN : (samples, height, width, channels)"
   ]
  },
  {
   "cell_type": "code",
   "execution_count": 6,
   "id": "e68e7b6b-e976-481d-8136-ae59f2a649fc",
   "metadata": {},
   "outputs": [],
   "source": [
    "X_train = X_train.reshape(-1, 28, 28, 1).astype(\"float32\")/255\n",
    "X_test = X_test.reshape(-1, 28, 28, 1).astype(\"float32\")/255"
   ]
  },
  {
   "cell_type": "code",
   "execution_count": 7,
   "id": "d25ed375-d81b-46fc-8e7b-34691ddd01d3",
   "metadata": {},
   "outputs": [],
   "source": [
    "y_train = to_categorical(y_train)\n",
    "y_test = to_categorical(y_test)"
   ]
  },
  {
   "cell_type": "code",
   "execution_count": 10,
   "id": "8dc8a3eb-e402-4d99-86be-4b6c2bb846c4",
   "metadata": {},
   "outputs": [
    {
     "name": "stdout",
     "output_type": "stream",
     "text": [
      "train shape: (60000, 28, 28, 1)\n",
      "test shape: (10000, 28, 28, 1)\n"
     ]
    }
   ],
   "source": [
    "print(\"train shape:\", X_train.shape)\n",
    "print(\"test shape:\", X_test.shape)\n"
   ]
  },
  {
   "cell_type": "markdown",
   "id": "89ecfae2-ace0-4f8a-9d14-dff6d0374a84",
   "metadata": {},
   "source": [
    "#### Build CNN model"
   ]
  },
  {
   "cell_type": "code",
   "execution_count": null,
   "id": "cdd9a8ab-dbee-44cd-9cf7-d8306386cdfd",
   "metadata": {},
   "outputs": [],
   "source": [
    "model = Sequential()"
   ]
  }
 ],
 "metadata": {
  "kernelspec": {
   "display_name": "Python (tfenv)",
   "language": "python",
   "name": "tfenv"
  },
  "language_info": {
   "codemirror_mode": {
    "name": "ipython",
    "version": 3
   },
   "file_extension": ".py",
   "mimetype": "text/x-python",
   "name": "python",
   "nbconvert_exporter": "python",
   "pygments_lexer": "ipython3",
   "version": "3.10.18"
  }
 },
 "nbformat": 4,
 "nbformat_minor": 5
}
