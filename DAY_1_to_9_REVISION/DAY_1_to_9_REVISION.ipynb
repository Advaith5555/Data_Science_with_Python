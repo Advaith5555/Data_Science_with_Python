{
 "cells": [
  {
   "cell_type": "markdown",
   "id": "03d24084-5aa1-49c8-91cb-51e60f638448",
   "metadata": {},
   "source": [
    "# 1. Python Basics Practice"
   ]
  },
  {
   "cell_type": "markdown",
   "id": "63f92553-e5d1-47ab-9348-01a2c8198884",
   "metadata": {},
   "source": [
    "#### 1. Create a list of 5 favorite fruits\n"
   ]
  },
  {
   "cell_type": "code",
   "execution_count": 1,
   "id": "da320ffa-bb8f-49b7-b302-fcda2802a2e9",
   "metadata": {},
   "outputs": [],
   "source": [
    "fruits = [\"apple\", \"banana\", \"mango\", \"grapes\", \"orange\"]"
   ]
  },
  {
   "cell_type": "markdown",
   "id": "ac43d385-a39b-4c88-829c-967cd4216370",
   "metadata": {},
   "source": [
    "#### 2. Add one fruit and remove one"
   ]
  },
  {
   "cell_type": "code",
   "execution_count": 2,
   "id": "bb51cb7d-218a-4546-924a-a74240603385",
   "metadata": {},
   "outputs": [],
   "source": [
    "fruits.append(\"pineapple\")  \n",
    "fruits.remove(\"banana\")      "
   ]
  },
  {
   "cell_type": "markdown",
   "id": "a5679944-4257-407f-8b55-3c97253a0988",
   "metadata": {},
   "source": [
    "#### 3. Convert list into a tuple\n"
   ]
  },
  {
   "cell_type": "code",
   "execution_count": 3,
   "id": "ea4670e5-c144-4600-82fc-6ee1487321f9",
   "metadata": {},
   "outputs": [],
   "source": [
    "fruit_tuple = tuple(fruits)\n"
   ]
  },
  {
   "cell_type": "markdown",
   "id": "fc31ecc0-725f-44e9-ae92-0309b9466eed",
   "metadata": {},
   "source": [
    "#### 4. Create dictionary of fruits and their colors\n"
   ]
  },
  {
   "cell_type": "code",
   "execution_count": 4,
   "id": "c53716ec-382d-4409-8e63-ebb3ac4c7067",
   "metadata": {},
   "outputs": [],
   "source": [
    "fruit_colors = {\"apple\": \"red\",\"mango\": \"yellow\",\"grapes\": \"green\",\"orange\": \"orange\",\"pineapple\": \"brown\"}"
   ]
  },
  {
   "cell_type": "markdown",
   "id": "1b5114e6-1143-4e2b-9837-847f6af7d720",
   "metadata": {},
   "source": [
    "#### 5. Use a for loop to print each fruit and its color\n"
   ]
  },
  {
   "cell_type": "code",
   "execution_count": 5,
   "id": "81f05881-5da0-410a-85a7-6e2b83b7d7d3",
   "metadata": {},
   "outputs": [
    {
     "name": "stdout",
     "output_type": "stream",
     "text": [
      "The color of apple is red\n",
      "The color of mango is yellow\n",
      "The color of grapes is green\n",
      "The color of orange is orange\n",
      "The color of pineapple is brown\n"
     ]
    }
   ],
   "source": [
    "for fruit, color in fruit_colors.items():\n",
    "    print(f\"The color of {fruit} is {color}\")"
   ]
  },
  {
   "cell_type": "markdown",
   "id": "de98b069-41e5-4c27-8af5-472b3eeec3e8",
   "metadata": {},
   "source": [
    "#  2. Conditional Practice"
   ]
  },
  {
   "cell_type": "code",
   "execution_count": 6,
   "id": "686abd32-134d-4523-8077-e52bfb365e25",
   "metadata": {},
   "outputs": [
    {
     "name": "stdin",
     "output_type": "stream",
     "text": [
      "Enter a number between 1 and 100:  5\n"
     ]
    },
    {
     "name": "stdout",
     "output_type": "stream",
     "text": [
      "Below Average\n"
     ]
    }
   ],
   "source": [
    "number = int(input(\"Enter a number between 1 and 100: \"))\n",
    "\n",
    "# Check conditions\n",
    "if number > 90:\n",
    "    print(\"Excellent\")\n",
    "elif number >= 50:\n",
    "    print(\"Good\")\n",
    "else:\n",
    "    print(\"Below Average\")"
   ]
  },
  {
   "cell_type": "markdown",
   "id": "d0c2b712-a76e-4fd9-ae08-c382ce2f52aa",
   "metadata": {},
   "source": [
    "# 3. Data Visualization Task"
   ]
  },
  {
   "cell_type": "code",
   "execution_count": null,
   "id": "73a3a63d-5ff3-4c16-8a1e-c204c19c7fb7",
   "metadata": {},
   "outputs": [],
   "source": [
    "import matplotlib.pyplot as plt\n",
    "\n",
    "fruits = ['Apple', 'Banana', 'Mango', 'Orange', 'Grapes']\n",
    "quantity = [10, 7, 5, 12, 8]\n",
    "\n",
    "plt.bar(fruits, quantity, color='skyblue')\n",
    "\n",
    "plt.title('Fruit Quantity Bar Chart')\n",
    "plt.xlabel('Fruits')\n",
    "plt.ylabel('Quantity')\n",
    "\n",
    "plt.show()"
   ]
  },
  {
   "cell_type": "markdown",
   "id": "16a9977a-e16a-4b3d-821a-cb9c0f091cd4",
   "metadata": {},
   "source": [
    "# 4. Pandas Task"
   ]
  },
  {
   "cell_type": "code",
   "execution_count": 8,
   "id": "f4e972ae-85a8-4c00-93c5-8b9488b1e6b5",
   "metadata": {},
   "outputs": [
    {
     "name": "stdout",
     "output_type": "stream",
     "text": [
      "Students who scored more than 80:\n",
      "       Name  Marks\n",
      "0    Alice     85\n",
      "2  Charlie     92\n",
      "4      Eva     88\n",
      "\n",
      "Average Marks: 81.8\n"
     ]
    }
   ],
   "source": [
    "import pandas as pd\n",
    "\n",
    "data = {'Name': ['Alice', 'Bob', 'Charlie', 'David', 'Eva'],\n",
    "        'Age': [20, 21, 19, 22, 20],\n",
    "        'Gender': ['Female', 'Male', 'Male', 'Male', 'Female'],\n",
    "        'Marks': [85, 78, 92, 66, 88]}\n",
    "\n",
    "df = pd.DataFrame(data)\n",
    "\n",
    "high_scorers = df[df['Marks'] > 80][['Name', 'Marks']]\n",
    "print(\"Students who scored more than 80:\\n\", high_scorers)\n",
    "\n",
    "average_marks = df['Marks'].mean()\n",
    "print(\"\\nAverage Marks:\", average_marks)\n"
   ]
  },
  {
   "cell_type": "markdown",
   "id": "9f49724b-a7b7-4f3b-ab5d-805d18725e4b",
   "metadata": {},
   "source": [
    "# 5. Linear Regression Mini Task"
   ]
  },
  {
   "cell_type": "code",
   "execution_count": 9,
   "id": "bee6ca5a-87e8-4373-930d-8dc2cd446cb5",
   "metadata": {
    "scrolled": true
   },
   "outputs": [
    {
     "data": {
      "image/png": "[encoded data removed]",
      "text/plain": [
       "<Figure size 600x400 with 1 Axes>"
      ]
     },
     "metadata": {},
     "output_type": "display_data"
    },
    {
     "name": "stdout",
     "output_type": "stream",
     "text": [
      "Predicted Marks for 5 hours of study: 65.0\n"
     ]
    },
    {
     "name": "stderr",
     "output_type": "stream",
     "text": [
      "C:\\Users\\Smita\\AppData\\Local\\Programs\\Python\\Python312\\Lib\\site-packages\\sklearn\\utils\\validation.py:2749: UserWarning: X does not have valid feature names, but LinearRegression was fitted with feature names\n",
      "  warnings.warn(\n"
     ]
    }
   ],
   "source": [
    "import pandas as pd\n",
    "import matplotlib.pyplot as plt\n",
    "from sklearn.linear_model import LinearRegression\n",
    "\n",
    "study_hours = [2, 4, 6, 8, 10]\n",
    "marks = [50, 60, 70, 80, 90]\n",
    "\n",
    "df = pd.DataFrame({'Study Hours': study_hours,'Marks': marks})\n",
    "\n",
    "plt.figure(figsize=(6, 4))\n",
    "plt.scatter(df['Study Hours'], df['Marks'], color='blue', label='Actual Data')\n",
    "plt.title('Study Hours vs Marks')\n",
    "plt.xlabel('Study Hours')\n",
    "plt.ylabel('Marks')\n",
    "\n",
    "model = LinearRegression()\n",
    "model.fit(df[['Study Hours']], df['Marks'])\n",
    "\n",
    "plt.plot(df['Study Hours'], model.predict(df[['Study Hours']]), color='red', label='Regression Line')\n",
    "plt.show()\n",
    "\n",
    "predicted_marks = model.predict([[5]])\n",
    "print(\"Predicted Marks for 5 hours of study:\", predicted_marks[0])\n"
   ]
  },
  {
   "cell_type": "code",
   "execution_count": 10,
   "id": "b02f08a4-a769-4d98-923c-032c2b7435f6",
   "metadata": {},
   "outputs": [],
   "source": [
    "import numpy as np"
   ]
  },
  {
   "cell_type": "code",
   "execution_count": 14,
   "id": "b6839593-0d7f-4a49-b5a3-5b535978df75",
   "metadata": {},
   "outputs": [],
   "source": [
    "arr1 = np.array([1, 2, 3, \"adil\"])\n",
    "arr2 = np.array([\"Apple\",4,\"Kiwi\",\"Orange\"])"
   ]
  },
  {
   "cell_type": "code",
   "execution_count": 18,
   "id": "b186457c-f719-42fa-b09d-83148f994ae7",
   "metadata": {},
   "outputs": [
    {
     "name": "stdout",
     "output_type": "stream",
     "text": [
      "['1Apple' '24' '3Kiwi' 'adilOrange']\n"
     ]
    }
   ],
   "source": [
    "print(arr1 + arr2)"
   ]
  },
  {
   "cell_type": "code",
   "execution_count": 19,
   "id": "70a0e247-cc7c-412c-9e11-d85ec2e7ac99",
   "metadata": {},
   "outputs": [
    {
     "name": "stdout",
     "output_type": "stream",
     "text": [
      "['1Apple' '24' '3Kiwi' 'adilOrange']\n"
     ]
    }
   ],
   "source": [
    "arr5 = arr1 + arr2\n",
    "print(arr5)"
   ]
  },
  {
   "cell_type": "code",
   "execution_count": null,
   "id": "29170757-de32-4310-8343-8efd80d6182b",
   "metadata": {},
   "outputs": [],
   "source": [
    "arr3 = np.array([1, 2, 3, \"Apple\"])\n",
    "arr4 = np.array([\"Apple\",1,2,3])"
   ]
  },
  {
   "cell_type": "code",
   "execution_count": null,
   "id": "e80c694f-03a0-49e4-b0dc-708000b84f86",
   "metadata": {},
   "outputs": [],
   "source": [
    "print(arr4 - arr3)"
   ]
  },
  {
   "cell_type": "code",
   "execution_count": null,
   "id": "e8ba5e3e-d9a3-4732-916f-2fd5c7821b58",
   "metadata": {},
   "outputs": [],
   "source": [
    "print([f\"{a}+{b}\" for a, b in zip(arr1, arr2)])"
   ]
  },
  {
   "cell_type": "code",
   "execution_count": null,
   "id": "2a6d82ee-8ff7-457b-9d8b-687fe687bccc",
   "metadata": {},
   "outputs": [],
   "source": [
    "print([f\"{a}-{b}\" for a, b in zip(arr1, arr2)])"
   ]
  },
  {
   "cell_type": "code",
   "execution_count": null,
   "id": "1130eed4-7e26-4103-a977-bb01a595c1b9",
   "metadata": {},
   "outputs": [],
   "source": [
    "print([f\"{a}{b}\" for a, b in zip(arr1, arr2)])"
   ]
  },
  {
   "cell_type": "code",
   "execution_count": null,
   "id": "f9fe6932-00c1-4f82-8606-de70a0e4e2dc",
   "metadata": {},
   "outputs": [],
   "source": [
    "print([f\"{a}/{b}\" for a, b in zip(arr1, arr2)])"
   ]
  },
  {
   "cell_type": "code",
   "execution_count": null,
   "id": "fb6881be-28d7-4215-993a-b6a994a6291d",
   "metadata": {},
   "outputs": [],
   "source": []
  }
 ],
 "metadata": {
  "kernelspec": {
   "display_name": "Python 3 (ipykernel)",
   "language": "python",
   "name": "python3"
  },
  "language_info": {
   "codemirror_mode": {
    "name": "ipython",
    "version": 3
   },
   "file_extension": ".py",
   "mimetype": "text/x-python",
   "name": "python",
   "nbconvert_exporter": "python",
   "pygments_lexer": "ipython3",
   "version": "3.12.6"
  }
 },
 "nbformat": 4,
 "nbformat_minor": 5
}
