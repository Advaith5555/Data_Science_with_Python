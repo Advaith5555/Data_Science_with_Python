{
 "cells": [
  {
   "cell_type": "code",
   "execution_count": 1,
   "id": "8b48133d-e3f5-4110-8f2f-b6a28a8c495b",
   "metadata": {},
   "outputs": [],
   "source": [
    "import pywhatkit as pwk"
   ]
  },
  {
   "cell_type": "code",
   "execution_count": 2,
   "id": "7be762d5-1eec-496e-8af7-2e46a68a12ee",
   "metadata": {},
   "outputs": [],
   "source": [
    "phone_number = \"+917499800427\"\n",
    "message = \"Hello\""
   ]
  },
  {
   "cell_type": "code",
   "execution_count": 7,
   "id": "774cfee2-eb6d-4c08-8ad3-406cd288b951",
   "metadata": {},
   "outputs": [
    {
     "name": "stdout",
     "output_type": "stream",
     "text": [
      "In 40 Seconds WhatsApp will open and after 15 Seconds Message will be Delivered!\n"
     ]
    }
   ],
   "source": [
    "pwk.sendwhatmsg(phone_number, message, 14, 16)"
   ]
  },
  {
   "cell_type": "code",
   "execution_count": 9,
   "id": "99018732-f78b-43cf-a349-29e2cdad5959",
   "metadata": {},
   "outputs": [
    {
     "name": "stdout",
     "output_type": "stream",
     "text": [
      "login done\n"
     ]
    }
   ],
   "source": [
    "name = \"python\"\n",
    "if name == \"java\" or \"html\":\n",
    "    print(\"login done\")\n",
    "else:\n",
    "    print(\"not valid\")"
   ]
  },
  {
   "cell_type": "code",
   "execution_count": null,
   "id": "eb19aa82-8fdf-4b99-a6c0-ccc9b0efb887",
   "metadata": {},
   "outputs": [],
   "source": [
    "list "
   ]
  }
 ],
 "metadata": {
  "kernelspec": {
   "display_name": "Python 3 (ipykernel)",
   "language": "python",
   "name": "python3"
  },
  "language_info": {
   "codemirror_mode": {
    "name": "ipython",
    "version": 3
   },
   "file_extension": ".py",
   "mimetype": "text/x-python",
   "name": "python",
   "nbconvert_exporter": "python",
   "pygments_lexer": "ipython3",
   "version": "3.13.5"
  }
 },
 "nbformat": 4,
 "nbformat_minor": 5
}
