{
 "cells": [
  {
   "cell_type": "code",
   "execution_count": null,
   "id": "b3a8aad8-eeae-4943-8de3-609354f987d8",
   "metadata": {},
   "outputs": [],
   "source": [
    "import tensorflow as tf\n",
    "import pandas as pd\n",
    "import numpy as np\n",
    "import matplotlib.pyplot as plt\n",
    "import seaborn as sns\n",
    "from sklearn.model_selection import train_test_split\n",
    "from sklearn.preprocessing import LabelEncoder, StandardScaler\n",
    "from tensorflow.keras.models import Sequential\n",
    "from tensorflow.keras.layers import Dense"
   ]
  },
  {
   "cell_type": "code",
   "execution_count": null,
   "id": "73eed0c8-a80a-4521-8df4-f3905f642757",
   "metadata": {},
   "outputs": [],
   "source": [
    "titanic = sns.load_dataset(\"titanic\")"
   ]
  },
  {
   "cell_type": "code",
   "execution_count": null,
   "id": "43acb897-6156-4ddb-b84a-3a734ff9cab5",
   "metadata": {},
   "outputs": [],
   "source": [
    "titanic.drop([\"deck\",\"embark_town\"], axis = 1 , inplace = True)"
   ]
  },
  {
   "cell_type": "code",
   "execution_count": null,
   "id": "69a18725-8859-4401-a552-851363fbf0fd",
   "metadata": {},
   "outputs": [],
   "source": [
    "titanic[\"age\"].fillna(titanic[\"age\"].median(), inplace = True)"
   ]
  },
  {
   "cell_type": "code",
   "execution_count": null,
   "id": "c48cc6f5-bc94-44bb-9fe6-ee2e13413483",
   "metadata": {},
   "outputs": [],
   "source": [
    "titanic.dropna(inplace = True)"
   ]
  },
  {
   "cell_type": "code",
   "execution_count": null,
   "id": "32f7d229-d4b6-42a8-a60f-2d265556ba51",
   "metadata": {},
   "outputs": [],
   "source": [
    "le = LabelEncoder()\n",
    "titanic[\"sex\"] = le.fit_transform(titanic[\"sex\"])"
   ]
  },
  {
   "cell_type": "code",
   "execution_count": null,
   "id": "d48d99b4-5a25-40a6-adbf-48c4c4a01a41",
   "metadata": {},
   "outputs": [],
   "source": [
    "titanic[\"embarked\"] = le.fit_transform(titanic[\"embarked\"])"
   ]
  },
  {
   "cell_type": "code",
   "execution_count": null,
   "id": "e49825b4-5d2c-4269-9aee-118431b4b19a",
   "metadata": {},
   "outputs": [],
   "source": [
    "X = titanic[[\"pclass\", \"sex\", \"age\", \"fare\", \"embarked\"]]\n",
    "y = titanic[\"survived\"]"
   ]
  },
  {
   "cell_type": "code",
   "execution_count": null,
   "id": "22d45763-5836-40be-a499-f742823dc5ae",
   "metadata": {},
   "outputs": [],
   "source": [
    "scaler = StandardScaler()"
   ]
  },
  {
   "cell_type": "code",
   "execution_count": null,
   "id": "0fe98fcd-30ee-4899-a5c2-fa0b72b9fbde",
   "metadata": {},
   "outputs": [],
   "source": [
    "X = scaler.fit_transform(X)"
   ]
  },
  {
   "cell_type": "code",
   "execution_count": null,
   "id": "fb35b1a7-9968-46a0-a88e-90cc3dcf5eab",
   "metadata": {},
   "outputs": [],
   "source": [
    "X_train, X_test, y_train, y_test = train_test_split(X,y, test_size = 0.2 , random_state = 42 )"
   ]
  },
  {
   "cell_type": "code",
   "execution_count": null,
   "id": "48fdc03e-b7fe-44d9-9d64-cd6b0f1c45cc",
   "metadata": {},
   "outputs": [],
   "source": [
    "model = Sequential()\n",
    "model.add(Dense(10, activation = \"tanh\", input_dim = X_train.shape[1]))\n",
    "model.add(Dense(8, activation = \"tanh\"))\n",
    "model.add(Dense(1, activation = \"sigmoid\"))\n",
    "model.compile(optimizer = \"adam\", loss = \"binary_crossentropy\", metrics = [\"accuracy\"])"
   ]
  },
  {
   "cell_type": "code",
   "execution_count": null,
   "id": "1e331d53-97ca-43a6-acb1-4d6c2d26ed72",
   "metadata": {},
   "outputs": [],
   "source": [
    "history = model.fit(X_train, y_train, epochs = 1000, batch_size = 16, validation_split = 0.2 )"
   ]
  },
  {
   "cell_type": "code",
   "execution_count": null,
   "id": "38a999ab-97c0-4c3d-89b9-b7c3d43d1e2f",
   "metadata": {},
   "outputs": [],
   "source": [
    "loss, accuracy = model.evaluate(X_test, y_test)\n",
    "print(f\"\\n test accuracy : {accuracy:.2f}\")"
   ]
  },
  {
   "cell_type": "code",
   "execution_count": null,
   "id": "013ede38-e03a-4b57-9c49-89c55ce8d0ba",
   "metadata": {},
   "outputs": [],
   "source": [
    "plt.plot(history.history[\"accuracy\"], label = \"train accuracy\")\n",
    "plt.plot(history.history[\"val_accuracy\"], label = \"validation accuracy \")\n",
    "plt.title(\"model accuracy over epochs\")\n",
    "plt.xlabel(\"epoch\")\n",
    "plt.ylabel(\"accuracy\")\n",
    "plt.legend()\n",
    "plt.show()"
   ]
  },
  {
   "cell_type": "code",
   "execution_count": null,
   "id": "94f83763-72f5-42e2-8fe5-f2a1c96d1230",
   "metadata": {},
   "outputs": [],
   "source": []
  }
 ],
 "metadata": {
  "kernelspec": {
   "display_name": "Python (tfenv)",
   "language": "python",
   "name": "tfenv"
  },
  "language_info": {
   "codemirror_mode": {
    "name": "ipython",
    "version": 3
   },
   "file_extension": ".py",
   "mimetype": "text/x-python",
   "name": "python",
   "nbconvert_exporter": "python",
   "pygments_lexer": "ipython3",
   "version": "3.10.18"
  }
 },
 "nbformat": 4,
 "nbformat_minor": 5
}
